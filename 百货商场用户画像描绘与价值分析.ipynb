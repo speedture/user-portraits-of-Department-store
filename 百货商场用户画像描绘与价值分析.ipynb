{
 "cells": [
  {
   "cell_type": "code",
   "execution_count": 1,
   "metadata": {},
   "outputs": [],
   "source": [
    "import matplotlib\n",
    "import warnings\n",
    "import re\n",
    "import pandas as pd\n",
    "import numpy as np\n",
    "import seaborn as sns\n",
    "import matplotlib.pyplot as plt\n",
    "\n",
    "from sklearn.cluster import KMeans\n",
    "from sklearn.metrics import silhouette_score\n",
    "from sklearn.preprocessing import StandardScaler, MinMaxScaler\n",
    "\n",
    "%matplotlib inline\n",
    "plt.rcParams['font.sans-serif'] = 'SimHei'\n",
    "plt.rcParams['axes.unicode_minus'] = False\n",
    "matplotlib.rcParams.update({'font.size' : 16})\n",
    "plt.style.use('ggplot')\n",
    "warnings.filterwarnings('ignore')"
   ]
  },
  {
   "cell_type": "code",
   "execution_count": 2,
   "metadata": {},
   "outputs": [],
   "source": [
    "df_cum = pd.read_excel('/Users/liqinglin/Desktop/python/cumcm2018c1.xlsx')"
   ]
  },
  {
   "cell_type": "code",
   "execution_count": 3,
   "metadata": {},
   "outputs": [
    {
     "data": {
      "text/html": [
       "<div>\n",
       "<style scoped>\n",
       "    .dataframe tbody tr th:only-of-type {\n",
       "        vertical-align: middle;\n",
       "    }\n",
       "\n",
       "    .dataframe tbody tr th {\n",
       "        vertical-align: top;\n",
       "    }\n",
       "\n",
       "    .dataframe thead th {\n",
       "        text-align: right;\n",
       "    }\n",
       "</style>\n",
       "<table border=\"1\" class=\"dataframe\">\n",
       "  <thead>\n",
       "    <tr style=\"text-align: right;\">\n",
       "      <th></th>\n",
       "      <th>会员卡号</th>\n",
       "      <th>出生日期</th>\n",
       "      <th>性别</th>\n",
       "      <th>登记时间</th>\n",
       "    </tr>\n",
       "  </thead>\n",
       "  <tbody>\n",
       "    <tr>\n",
       "      <th>0</th>\n",
       "      <td>c68b20b4</td>\n",
       "      <td>2002-11-02 00:00:00</td>\n",
       "      <td>0.0</td>\n",
       "      <td>2013-05-11 00:00:00.000</td>\n",
       "    </tr>\n",
       "    <tr>\n",
       "      <th>1</th>\n",
       "      <td>1ca15332</td>\n",
       "      <td>NaN</td>\n",
       "      <td>0.0</td>\n",
       "      <td>2004-11-04 16:31:52.436</td>\n",
       "    </tr>\n",
       "    <tr>\n",
       "      <th>2</th>\n",
       "      <td>a37cc182</td>\n",
       "      <td>1967-02-17 00:00:00</td>\n",
       "      <td>0.0</td>\n",
       "      <td>2004-12-31 21:24:34.216</td>\n",
       "    </tr>\n",
       "    <tr>\n",
       "      <th>3</th>\n",
       "      <td>2ab88539</td>\n",
       "      <td>1982-06-01 00:00:00</td>\n",
       "      <td>0.0</td>\n",
       "      <td>2010-11-19 00:00:00.000</td>\n",
       "    </tr>\n",
       "    <tr>\n",
       "      <th>4</th>\n",
       "      <td>b4c77269</td>\n",
       "      <td>1964-02-05 00:00:00</td>\n",
       "      <td>0.0</td>\n",
       "      <td>2007-12-14 00:00:00.000</td>\n",
       "    </tr>\n",
       "  </tbody>\n",
       "</table>\n",
       "</div>"
      ],
      "text/plain": [
       "       会员卡号                 出生日期   性别                    登记时间\n",
       "0  c68b20b4  2002-11-02 00:00:00  0.0 2013-05-11 00:00:00.000\n",
       "1  1ca15332                  NaN  0.0 2004-11-04 16:31:52.436\n",
       "2  a37cc182  1967-02-17 00:00:00  0.0 2004-12-31 21:24:34.216\n",
       "3  2ab88539  1982-06-01 00:00:00  0.0 2010-11-19 00:00:00.000\n",
       "4  b4c77269  1964-02-05 00:00:00  0.0 2007-12-14 00:00:00.000"
      ]
     },
     "execution_count": 3,
     "metadata": {},
     "output_type": "execute_result"
    }
   ],
   "source": [
    "df_cum.head()"
   ]
  },
  {
   "cell_type": "code",
   "execution_count": 89,
   "metadata": {},
   "outputs": [
    {
     "data": {
      "text/html": [
       "<div>\n",
       "<style scoped>\n",
       "    .dataframe tbody tr th:only-of-type {\n",
       "        vertical-align: middle;\n",
       "    }\n",
       "\n",
       "    .dataframe tbody tr th {\n",
       "        vertical-align: top;\n",
       "    }\n",
       "\n",
       "    .dataframe thead th {\n",
       "        text-align: right;\n",
       "    }\n",
       "</style>\n",
       "<table border=\"1\" class=\"dataframe\">\n",
       "  <thead>\n",
       "    <tr style=\"text-align: right;\">\n",
       "      <th></th>\n",
       "      <th>会员卡号</th>\n",
       "      <th>消费产生的时间</th>\n",
       "      <th>商品编码</th>\n",
       "      <th>销售数量</th>\n",
       "      <th>商品售价</th>\n",
       "      <th>消费金额</th>\n",
       "      <th>商品名称</th>\n",
       "      <th>此次消费的会员积分</th>\n",
       "      <th>收银机号</th>\n",
       "      <th>单据号</th>\n",
       "      <th>柜组编码</th>\n",
       "      <th>柜组名称</th>\n",
       "    </tr>\n",
       "  </thead>\n",
       "  <tbody>\n",
       "    <tr>\n",
       "      <th>0</th>\n",
       "      <td>1be1e3fe</td>\n",
       "      <td>2015-01-01 00:05:41.593</td>\n",
       "      <td>f09c9303</td>\n",
       "      <td>1</td>\n",
       "      <td>290.0</td>\n",
       "      <td>270.20</td>\n",
       "      <td>兰芝化妆品正价瓶</td>\n",
       "      <td>270.20</td>\n",
       "      <td>6</td>\n",
       "      <td>25bb</td>\n",
       "      <td>8077.0</td>\n",
       "      <td>兰芝柜</td>\n",
       "    </tr>\n",
       "    <tr>\n",
       "      <th>1</th>\n",
       "      <td>1be1e3fe</td>\n",
       "      <td>2015-01-01 00:05:41.593</td>\n",
       "      <td>f09c9303</td>\n",
       "      <td>1</td>\n",
       "      <td>325.0</td>\n",
       "      <td>302.80</td>\n",
       "      <td>兰芝化妆品正价瓶</td>\n",
       "      <td>302.80</td>\n",
       "      <td>6</td>\n",
       "      <td>25bb</td>\n",
       "      <td>8077.0</td>\n",
       "      <td>兰芝柜</td>\n",
       "    </tr>\n",
       "    <tr>\n",
       "      <th>2</th>\n",
       "      <td>1be1e3fe</td>\n",
       "      <td>2015-01-01 00:05:41.593</td>\n",
       "      <td>f09c9303</td>\n",
       "      <td>1</td>\n",
       "      <td>195.0</td>\n",
       "      <td>181.80</td>\n",
       "      <td>兰芝化妆品正价瓶</td>\n",
       "      <td>181.80</td>\n",
       "      <td>6</td>\n",
       "      <td>25bb</td>\n",
       "      <td>8077.0</td>\n",
       "      <td>兰芝柜</td>\n",
       "    </tr>\n",
       "    <tr>\n",
       "      <th>3</th>\n",
       "      <td>1be1e3fe</td>\n",
       "      <td>2015-01-01 00:05:41.593</td>\n",
       "      <td>f09c9303</td>\n",
       "      <td>1</td>\n",
       "      <td>270.0</td>\n",
       "      <td>251.55</td>\n",
       "      <td>兰芝化妆品正价瓶</td>\n",
       "      <td>251.55</td>\n",
       "      <td>6</td>\n",
       "      <td>25bb</td>\n",
       "      <td>8077.0</td>\n",
       "      <td>兰芝柜</td>\n",
       "    </tr>\n",
       "    <tr>\n",
       "      <th>4</th>\n",
       "      <td>1be1e3fe</td>\n",
       "      <td>2015-01-01 00:05:41.593</td>\n",
       "      <td>f09c9303</td>\n",
       "      <td>2</td>\n",
       "      <td>245.0</td>\n",
       "      <td>456.55</td>\n",
       "      <td>兰芝化妆品正价瓶</td>\n",
       "      <td>456.55</td>\n",
       "      <td>6</td>\n",
       "      <td>25bb</td>\n",
       "      <td>8077.0</td>\n",
       "      <td>兰芝柜</td>\n",
       "    </tr>\n",
       "    <tr>\n",
       "      <th>...</th>\n",
       "      <td>...</td>\n",
       "      <td>...</td>\n",
       "      <td>...</td>\n",
       "      <td>...</td>\n",
       "      <td>...</td>\n",
       "      <td>...</td>\n",
       "      <td>...</td>\n",
       "      <td>...</td>\n",
       "      <td>...</td>\n",
       "      <td>...</td>\n",
       "      <td>...</td>\n",
       "      <td>...</td>\n",
       "    </tr>\n",
       "    <tr>\n",
       "      <th>1893527</th>\n",
       "      <td>607c7cde</td>\n",
       "      <td>2018-01-03 21:38:15.343</td>\n",
       "      <td>c483e08b</td>\n",
       "      <td>1</td>\n",
       "      <td>200.0</td>\n",
       "      <td>200.00</td>\n",
       "      <td>植村秀眉笔4g</td>\n",
       "      <td>200.00</td>\n",
       "      <td>91</td>\n",
       "      <td>3d84</td>\n",
       "      <td>8156.0</td>\n",
       "      <td>Shu Uemura</td>\n",
       "    </tr>\n",
       "    <tr>\n",
       "      <th>1893528</th>\n",
       "      <td>220c0564</td>\n",
       "      <td>2018-01-03 21:41:53.140</td>\n",
       "      <td>cd93b1ca</td>\n",
       "      <td>1</td>\n",
       "      <td>1.0</td>\n",
       "      <td>1.00</td>\n",
       "      <td>爱慕内衣正价件</td>\n",
       "      <td>1.00</td>\n",
       "      <td>264</td>\n",
       "      <td>7cd8</td>\n",
       "      <td>4332.0</td>\n",
       "      <td>Aimer</td>\n",
       "    </tr>\n",
       "    <tr>\n",
       "      <th>1893529</th>\n",
       "      <td>220c0564</td>\n",
       "      <td>2018-01-03 21:41:53.140</td>\n",
       "      <td>cd93b1ca</td>\n",
       "      <td>1</td>\n",
       "      <td>490.0</td>\n",
       "      <td>490.00</td>\n",
       "      <td>爱慕内衣正价件</td>\n",
       "      <td>490.00</td>\n",
       "      <td>264</td>\n",
       "      <td>7cd8</td>\n",
       "      <td>4332.0</td>\n",
       "      <td>Aimer</td>\n",
       "    </tr>\n",
       "    <tr>\n",
       "      <th>1893530</th>\n",
       "      <td>220c0564</td>\n",
       "      <td>2018-01-03 21:41:53.140</td>\n",
       "      <td>cd93b1ca</td>\n",
       "      <td>1</td>\n",
       "      <td>280.0</td>\n",
       "      <td>280.00</td>\n",
       "      <td>爱慕内衣正价件</td>\n",
       "      <td>280.00</td>\n",
       "      <td>264</td>\n",
       "      <td>7cd8</td>\n",
       "      <td>4332.0</td>\n",
       "      <td>Aimer</td>\n",
       "    </tr>\n",
       "    <tr>\n",
       "      <th>1893531</th>\n",
       "      <td>220c0564</td>\n",
       "      <td>2018-01-03 21:41:53.140</td>\n",
       "      <td>cd93b1ca</td>\n",
       "      <td>1</td>\n",
       "      <td>880.0</td>\n",
       "      <td>880.00</td>\n",
       "      <td>爱慕内衣正价件</td>\n",
       "      <td>880.00</td>\n",
       "      <td>264</td>\n",
       "      <td>7cd8</td>\n",
       "      <td>4332.0</td>\n",
       "      <td>Aimer</td>\n",
       "    </tr>\n",
       "  </tbody>\n",
       "</table>\n",
       "<p>1893532 rows × 12 columns</p>\n",
       "</div>"
      ],
      "text/plain": [
       "             会员卡号                  消费产生的时间      商品编码  销售数量   商品售价    消费金额  \\\n",
       "0        1be1e3fe  2015-01-01 00:05:41.593  f09c9303     1  290.0  270.20   \n",
       "1        1be1e3fe  2015-01-01 00:05:41.593  f09c9303     1  325.0  302.80   \n",
       "2        1be1e3fe  2015-01-01 00:05:41.593  f09c9303     1  195.0  181.80   \n",
       "3        1be1e3fe  2015-01-01 00:05:41.593  f09c9303     1  270.0  251.55   \n",
       "4        1be1e3fe  2015-01-01 00:05:41.593  f09c9303     2  245.0  456.55   \n",
       "...           ...                      ...       ...   ...    ...     ...   \n",
       "1893527  607c7cde  2018-01-03 21:38:15.343  c483e08b     1  200.0  200.00   \n",
       "1893528  220c0564  2018-01-03 21:41:53.140  cd93b1ca     1    1.0    1.00   \n",
       "1893529  220c0564  2018-01-03 21:41:53.140  cd93b1ca     1  490.0  490.00   \n",
       "1893530  220c0564  2018-01-03 21:41:53.140  cd93b1ca     1  280.0  280.00   \n",
       "1893531  220c0564  2018-01-03 21:41:53.140  cd93b1ca     1  880.0  880.00   \n",
       "\n",
       "             商品名称  此次消费的会员积分  收银机号   单据号    柜组编码        柜组名称  \n",
       "0        兰芝化妆品正价瓶     270.20     6  25bb  8077.0         兰芝柜  \n",
       "1        兰芝化妆品正价瓶     302.80     6  25bb  8077.0         兰芝柜  \n",
       "2        兰芝化妆品正价瓶     181.80     6  25bb  8077.0         兰芝柜  \n",
       "3        兰芝化妆品正价瓶     251.55     6  25bb  8077.0         兰芝柜  \n",
       "4        兰芝化妆品正价瓶     456.55     6  25bb  8077.0         兰芝柜  \n",
       "...           ...        ...   ...   ...     ...         ...  \n",
       "1893527   植村秀眉笔4g     200.00    91  3d84  8156.0  Shu Uemura  \n",
       "1893528   爱慕内衣正价件       1.00   264  7cd8  4332.0       Aimer  \n",
       "1893529   爱慕内衣正价件     490.00   264  7cd8  4332.0       Aimer  \n",
       "1893530   爱慕内衣正价件     280.00   264  7cd8  4332.0       Aimer  \n",
       "1893531   爱慕内衣正价件     880.00   264  7cd8  4332.0       Aimer  \n",
       "\n",
       "[1893532 rows x 12 columns]"
      ]
     },
     "execution_count": 89,
     "metadata": {},
     "output_type": "execute_result"
    }
   ],
   "source": [
    "df_sale = pd.read_csv('/Users/liqinglin/Desktop/python/cumcm2018c2.csv', encoding = 'utf8')\n",
    "df_sale"
   ]
  },
  {
   "cell_type": "code",
   "execution_count": 8,
   "metadata": {},
   "outputs": [
    {
     "name": "stdout",
     "output_type": "stream",
     "text": [
      "会员信息表一共有194760行记录，4列字段\n"
     ]
    }
   ],
   "source": [
    "print('会员信息表一共有{}行记录，{}列字段' .format(df_cum.shape[0],df_cum.shape[1]))"
   ]
  },
  {
   "cell_type": "code",
   "execution_count": 15,
   "metadata": {},
   "outputs": [
    {
     "ename": "SyntaxError",
     "evalue": "invalid character in identifier (<ipython-input-15-300728ee7aa7>, line 1)",
     "output_type": "error",
     "traceback": [
      "\u001b[0;36m  File \u001b[0;32m\"<ipython-input-15-300728ee7aa7>\"\u001b[0;36m, line \u001b[0;32m1\u001b[0m\n\u001b[0;31m    print('数据缺失的情况为：\\n{}'.format(df_cum.isnull().mean())）\u001b[0m\n\u001b[0m                                                        ^\u001b[0m\n\u001b[0;31mSyntaxError\u001b[0m\u001b[0;31m:\u001b[0m invalid character in identifier\n"
     ]
    }
   ],
   "source": [
    "print('数据缺失的情况为：\\n{}'.format(df_cum.isnull().mean())）\n"
   ]
  },
  {
   "cell_type": "code",
   "execution_count": 12,
   "metadata": {},
   "outputs": [
    {
     "name": "stdout",
     "output_type": "stream",
     "text": [
      "会员卡号（不重复）有194754条记录\n"
     ]
    }
   ],
   "source": [
    "print('会员卡号（不重复）有{}条记录'.format(df_cum['会员卡号'].nunique()))"
   ]
  },
  {
   "cell_type": "code",
   "execution_count": 13,
   "metadata": {},
   "outputs": [
    {
     "name": "stdout",
     "output_type": "stream",
     "text": [
      "数据缺失的情况为：\n",
      "会员卡号    0.000000\n",
      "出生日期    0.175539\n",
      "性别      0.048444\n",
      "登记时间    0.065126\n",
      "dtype: float64\n"
     ]
    }
   ],
   "source": [
    "print('数据缺失的情况为：\\n{}'.format(df_cum.isnull().mean()))"
   ]
  },
  {
   "cell_type": "code",
   "execution_count": 20,
   "metadata": {},
   "outputs": [
    {
     "name": "stdout",
     "output_type": "stream",
     "text": [
      "数据缺失的情况为：\n",
      "会员卡号        0\n",
      "出生日期    34188\n",
      "性别       9435\n",
      "登记时间    12684\n",
      "dtype: int64\n"
     ]
    }
   ],
   "source": [
    "print('数据缺失的情况为：\\n{}'.format(df_cum.isnull().sum()))"
   ]
  },
  {
   "cell_type": "code",
   "execution_count": 21,
   "metadata": {},
   "outputs": [],
   "source": [
    "df_cum.drop_duplicates(subset='会员卡号',inplace=True)"
   ]
  },
  {
   "cell_type": "code",
   "execution_count": 26,
   "metadata": {},
   "outputs": [],
   "source": [
    "df_cum.dropna(subset=['登记时间'],inplace=True)"
   ]
  },
  {
   "cell_type": "code",
   "execution_count": 29,
   "metadata": {},
   "outputs": [
    {
     "data": {
      "text/plain": [
       "0.0"
      ]
     },
     "execution_count": 29,
     "metadata": {},
     "output_type": "execute_result"
    }
   ],
   "source": [
    "df_cum['性别'].mode().values[0]"
   ]
  },
  {
   "cell_type": "code",
   "execution_count": 31,
   "metadata": {},
   "outputs": [],
   "source": [
    "df_cum['性别'].fillna(df_cum['性别'].mode().values[0],inplace=True)"
   ]
  },
  {
   "cell_type": "code",
   "execution_count": 32,
   "metadata": {},
   "outputs": [
    {
     "data": {
      "text/plain": [
       "会员卡号    0.000000\n",
       "出生日期    0.151568\n",
       "性别      0.000000\n",
       "登记时间    0.000000\n",
       "dtype: float64"
      ]
     },
     "execution_count": 32,
     "metadata": {},
     "output_type": "execute_result"
    }
   ],
   "source": [
    "df_cum.isnull().mean()"
   ]
  },
  {
   "cell_type": "code",
   "execution_count": 34,
   "metadata": {},
   "outputs": [],
   "source": [
    "df=df_cum['登记时间']+pd.Timedelta(days=1)"
   ]
  },
  {
   "cell_type": "code",
   "execution_count": 56,
   "metadata": {},
   "outputs": [
    {
     "ename": "OutOfBoundsDatetime",
     "evalue": "Out of bounds nanosecond timestamp: 9690-01-20 00:00:00",
     "output_type": "error",
     "traceback": [
      "\u001b[0;31m---------------------------------------------------------------------------\u001b[0m",
      "\u001b[0;31mOutOfBoundsDatetime\u001b[0m                       Traceback (most recent call last)",
      "\u001b[0;32m<ipython-input-56-5515d3587fb7>\u001b[0m in \u001b[0;36m<module>\u001b[0;34m\u001b[0m\n\u001b[0;32m----> 1\u001b[0;31m \u001b[0mdf\u001b[0m\u001b[0;34m=\u001b[0m\u001b[0mdf_cum\u001b[0m\u001b[0;34m[\u001b[0m\u001b[0;34m'出生日期'\u001b[0m\u001b[0;34m]\u001b[0m\u001b[0;34m+\u001b[0m\u001b[0mpd\u001b[0m\u001b[0;34m.\u001b[0m\u001b[0mTimedelta\u001b[0m\u001b[0;34m(\u001b[0m\u001b[0mdays\u001b[0m\u001b[0;34m=\u001b[0m\u001b[0;36m1\u001b[0m\u001b[0;34m)\u001b[0m\u001b[0;34m\u001b[0m\u001b[0;34m\u001b[0m\u001b[0m\n\u001b[0m",
      "\u001b[0;32m/opt/anaconda3/lib/python3.8/site-packages/pandas/core/ops/common.py\u001b[0m in \u001b[0;36mnew_method\u001b[0;34m(self, other)\u001b[0m\n\u001b[1;32m     63\u001b[0m         \u001b[0mother\u001b[0m \u001b[0;34m=\u001b[0m \u001b[0mitem_from_zerodim\u001b[0m\u001b[0;34m(\u001b[0m\u001b[0mother\u001b[0m\u001b[0;34m)\u001b[0m\u001b[0;34m\u001b[0m\u001b[0;34m\u001b[0m\u001b[0m\n\u001b[1;32m     64\u001b[0m \u001b[0;34m\u001b[0m\u001b[0m\n\u001b[0;32m---> 65\u001b[0;31m         \u001b[0;32mreturn\u001b[0m \u001b[0mmethod\u001b[0m\u001b[0;34m(\u001b[0m\u001b[0mself\u001b[0m\u001b[0;34m,\u001b[0m \u001b[0mother\u001b[0m\u001b[0;34m)\u001b[0m\u001b[0;34m\u001b[0m\u001b[0;34m\u001b[0m\u001b[0m\n\u001b[0m\u001b[1;32m     66\u001b[0m \u001b[0;34m\u001b[0m\u001b[0m\n\u001b[1;32m     67\u001b[0m     \u001b[0;32mreturn\u001b[0m \u001b[0mnew_method\u001b[0m\u001b[0;34m\u001b[0m\u001b[0;34m\u001b[0m\u001b[0m\n",
      "\u001b[0;32m/opt/anaconda3/lib/python3.8/site-packages/pandas/core/ops/__init__.py\u001b[0m in \u001b[0;36mwrapper\u001b[0;34m(left, right)\u001b[0m\n\u001b[1;32m    341\u001b[0m         \u001b[0mlvalues\u001b[0m \u001b[0;34m=\u001b[0m \u001b[0mextract_array\u001b[0m\u001b[0;34m(\u001b[0m\u001b[0mleft\u001b[0m\u001b[0;34m,\u001b[0m \u001b[0mextract_numpy\u001b[0m\u001b[0;34m=\u001b[0m\u001b[0;32mTrue\u001b[0m\u001b[0;34m)\u001b[0m\u001b[0;34m\u001b[0m\u001b[0;34m\u001b[0m\u001b[0m\n\u001b[1;32m    342\u001b[0m         \u001b[0mrvalues\u001b[0m \u001b[0;34m=\u001b[0m \u001b[0mextract_array\u001b[0m\u001b[0;34m(\u001b[0m\u001b[0mright\u001b[0m\u001b[0;34m,\u001b[0m \u001b[0mextract_numpy\u001b[0m\u001b[0;34m=\u001b[0m\u001b[0;32mTrue\u001b[0m\u001b[0;34m)\u001b[0m\u001b[0;34m\u001b[0m\u001b[0;34m\u001b[0m\u001b[0m\n\u001b[0;32m--> 343\u001b[0;31m         \u001b[0mresult\u001b[0m \u001b[0;34m=\u001b[0m \u001b[0marithmetic_op\u001b[0m\u001b[0;34m(\u001b[0m\u001b[0mlvalues\u001b[0m\u001b[0;34m,\u001b[0m \u001b[0mrvalues\u001b[0m\u001b[0;34m,\u001b[0m \u001b[0mop\u001b[0m\u001b[0;34m)\u001b[0m\u001b[0;34m\u001b[0m\u001b[0;34m\u001b[0m\u001b[0m\n\u001b[0m\u001b[1;32m    344\u001b[0m \u001b[0;34m\u001b[0m\u001b[0m\n\u001b[1;32m    345\u001b[0m         \u001b[0;32mreturn\u001b[0m \u001b[0mleft\u001b[0m\u001b[0;34m.\u001b[0m\u001b[0m_construct_result\u001b[0m\u001b[0;34m(\u001b[0m\u001b[0mresult\u001b[0m\u001b[0;34m,\u001b[0m \u001b[0mname\u001b[0m\u001b[0;34m=\u001b[0m\u001b[0mres_name\u001b[0m\u001b[0;34m)\u001b[0m\u001b[0;34m\u001b[0m\u001b[0;34m\u001b[0m\u001b[0m\n",
      "\u001b[0;32m/opt/anaconda3/lib/python3.8/site-packages/pandas/core/ops/array_ops.py\u001b[0m in \u001b[0;36marithmetic_op\u001b[0;34m(left, right, op)\u001b[0m\n\u001b[1;32m    184\u001b[0m     \u001b[0;32mif\u001b[0m \u001b[0mshould_extension_dispatch\u001b[0m\u001b[0;34m(\u001b[0m\u001b[0mlvalues\u001b[0m\u001b[0;34m,\u001b[0m \u001b[0mrvalues\u001b[0m\u001b[0;34m)\u001b[0m \u001b[0;32mor\u001b[0m \u001b[0misinstance\u001b[0m\u001b[0;34m(\u001b[0m\u001b[0mrvalues\u001b[0m\u001b[0;34m,\u001b[0m \u001b[0mTimedelta\u001b[0m\u001b[0;34m)\u001b[0m\u001b[0;34m:\u001b[0m\u001b[0;34m\u001b[0m\u001b[0;34m\u001b[0m\u001b[0m\n\u001b[1;32m    185\u001b[0m         \u001b[0;31m# Timedelta is included because numexpr will fail on it, see GH#31457\u001b[0m\u001b[0;34m\u001b[0m\u001b[0;34m\u001b[0m\u001b[0;34m\u001b[0m\u001b[0m\n\u001b[0;32m--> 186\u001b[0;31m         \u001b[0mres_values\u001b[0m \u001b[0;34m=\u001b[0m \u001b[0mop\u001b[0m\u001b[0;34m(\u001b[0m\u001b[0mlvalues\u001b[0m\u001b[0;34m,\u001b[0m \u001b[0mrvalues\u001b[0m\u001b[0;34m)\u001b[0m\u001b[0;34m\u001b[0m\u001b[0;34m\u001b[0m\u001b[0m\n\u001b[0m\u001b[1;32m    187\u001b[0m \u001b[0;34m\u001b[0m\u001b[0m\n\u001b[1;32m    188\u001b[0m     \u001b[0;32melse\u001b[0m\u001b[0;34m:\u001b[0m\u001b[0;34m\u001b[0m\u001b[0;34m\u001b[0m\u001b[0m\n",
      "\u001b[0;32mpandas/_libs/tslibs/timedeltas.pyx\u001b[0m in \u001b[0;36mpandas._libs.tslibs.timedeltas._binary_op_method_timedeltalike.f\u001b[0;34m()\u001b[0m\n",
      "\u001b[0;32mpandas/_libs/tslibs/timedeltas.pyx\u001b[0m in \u001b[0;36mpandas._libs.tslibs.timedeltas.Timedelta.lambda5\u001b[0;34m()\u001b[0m\n",
      "\u001b[0;32mpandas/_libs/tslibs/timedeltas.pyx\u001b[0m in \u001b[0;36mpandas._libs.tslibs.timedeltas._binary_op_method_timedeltalike.f\u001b[0;34m()\u001b[0m\n",
      "\u001b[0;32mpandas/_libs/tslibs/timestamps.pyx\u001b[0m in \u001b[0;36mpandas._libs.tslibs.timestamps.Timestamp.__new__\u001b[0;34m()\u001b[0m\n",
      "\u001b[0;32mpandas/_libs/tslibs/conversion.pyx\u001b[0m in \u001b[0;36mpandas._libs.tslibs.conversion.convert_to_tsobject\u001b[0;34m()\u001b[0m\n",
      "\u001b[0;32mpandas/_libs/tslibs/conversion.pyx\u001b[0m in \u001b[0;36mpandas._libs.tslibs.conversion.convert_datetime_to_tsobject\u001b[0;34m()\u001b[0m\n",
      "\u001b[0;32mpandas/_libs/tslibs/np_datetime.pyx\u001b[0m in \u001b[0;36mpandas._libs.tslibs.np_datetime.check_dts_bounds\u001b[0;34m()\u001b[0m\n",
      "\u001b[0;31mOutOfBoundsDatetime\u001b[0m: Out of bounds nanosecond timestamp: 9690-01-20 00:00:00"
     ]
    }
   ],
   "source": [
    "df=df_cum['出生日期']+pd.Timedelta(days=1)"
   ]
  },
  {
   "cell_type": "code",
   "execution_count": 42,
   "metadata": {},
   "outputs": [],
   "source": [
    "L=pd.DataFrame(df_cum.loc[df_cum['出生日期'].notnull(),['出生日期', '性别']])\n",
    "L['年龄']=L['出生日期'].astype(str).str[0:3]+'0'"
   ]
  },
  {
   "cell_type": "code",
   "execution_count": 43,
   "metadata": {},
   "outputs": [],
   "source": [
    "L.drop('出生日期',inplace=True,axis=1)"
   ]
  },
  {
   "cell_type": "code",
   "execution_count": 45,
   "metadata": {},
   "outputs": [
    {
     "data": {
      "text/plain": [
       "1980    47142\n",
       "1970    43407\n",
       "1960    26678\n",
       "1750    16748\n",
       "1990    11811\n",
       "1950     7078\n",
       "1940      893\n",
       "2010      370\n",
       "2000      139\n",
       "1930      110\n",
       "1920       32\n",
       "1900       21\n",
       "1910        8\n",
       "1880        4\n",
       "1860        3\n",
       "1890        3\n",
       "5220        2\n",
       "1850        2\n",
       "1760        2\n",
       "1870        2\n",
       "9740        1\n",
       "1770        1\n",
       "8400        1\n",
       "8900        1\n",
       "5010        1\n",
       "8500        1\n",
       "9880        1\n",
       "1820        1\n",
       "9690        1\n",
       "6200        1\n",
       "9820        1\n",
       "8700        1\n",
       "2640        1\n",
       "9790        1\n",
       "2190        1\n",
       "1780        1\n",
       "5190        1\n",
       "1790        1\n",
       "7710        1\n",
       "Name: 年龄, dtype: int64"
      ]
     },
     "execution_count": 45,
     "metadata": {},
     "output_type": "execute_result"
    }
   ],
   "source": [
    "L['年龄'].value_counts()"
   ]
  },
  {
   "cell_type": "code",
   "execution_count": 47,
   "metadata": {},
   "outputs": [],
   "source": [
    "L['年龄']=L['年龄'].astype(int)"
   ]
  },
  {
   "cell_type": "code",
   "execution_count": 53,
   "metadata": {},
   "outputs": [
    {
     "data": {
      "text/html": [
       "<div>\n",
       "<style scoped>\n",
       "    .dataframe tbody tr th:only-of-type {\n",
       "        vertical-align: middle;\n",
       "    }\n",
       "\n",
       "    .dataframe tbody tr th {\n",
       "        vertical-align: top;\n",
       "    }\n",
       "\n",
       "    .dataframe thead th {\n",
       "        text-align: right;\n",
       "    }\n",
       "</style>\n",
       "<table border=\"1\" class=\"dataframe\">\n",
       "  <thead>\n",
       "    <tr style=\"text-align: right;\">\n",
       "      <th></th>\n",
       "      <th>性别</th>\n",
       "      <th>年龄</th>\n",
       "    </tr>\n",
       "  </thead>\n",
       "  <tbody>\n",
       "    <tr>\n",
       "      <th>0</th>\n",
       "      <td>0.0</td>\n",
       "      <td>2000</td>\n",
       "    </tr>\n",
       "    <tr>\n",
       "      <th>2</th>\n",
       "      <td>0.0</td>\n",
       "      <td>1960</td>\n",
       "    </tr>\n",
       "    <tr>\n",
       "      <th>3</th>\n",
       "      <td>0.0</td>\n",
       "      <td>1980</td>\n",
       "    </tr>\n",
       "    <tr>\n",
       "      <th>4</th>\n",
       "      <td>0.0</td>\n",
       "      <td>1960</td>\n",
       "    </tr>\n",
       "    <tr>\n",
       "      <th>5</th>\n",
       "      <td>1.0</td>\n",
       "      <td>1960</td>\n",
       "    </tr>\n",
       "    <tr>\n",
       "      <th>...</th>\n",
       "      <td>...</td>\n",
       "      <td>...</td>\n",
       "    </tr>\n",
       "    <tr>\n",
       "      <th>194749</th>\n",
       "      <td>1.0</td>\n",
       "      <td>1990</td>\n",
       "    </tr>\n",
       "    <tr>\n",
       "      <th>194751</th>\n",
       "      <td>1.0</td>\n",
       "      <td>1970</td>\n",
       "    </tr>\n",
       "    <tr>\n",
       "      <th>194752</th>\n",
       "      <td>1.0</td>\n",
       "      <td>1980</td>\n",
       "    </tr>\n",
       "    <tr>\n",
       "      <th>194758</th>\n",
       "      <td>0.0</td>\n",
       "      <td>1970</td>\n",
       "    </tr>\n",
       "    <tr>\n",
       "      <th>194759</th>\n",
       "      <td>0.0</td>\n",
       "      <td>1960</td>\n",
       "    </tr>\n",
       "  </tbody>\n",
       "</table>\n",
       "<p>137628 rows × 2 columns</p>\n",
       "</div>"
      ],
      "text/plain": [
       "         性别    年龄\n",
       "0       0.0  2000\n",
       "2       0.0  1960\n",
       "3       0.0  1980\n",
       "4       0.0  1960\n",
       "5       1.0  1960\n",
       "...     ...   ...\n",
       "194749  1.0  1990\n",
       "194751  1.0  1970\n",
       "194752  1.0  1980\n",
       "194758  0.0  1970\n",
       "194759  0.0  1960\n",
       "\n",
       "[137628 rows x 2 columns]"
      ]
     },
     "execution_count": 53,
     "metadata": {},
     "output_type": "execute_result"
    }
   ],
   "source": [
    "L.loc[(L['年龄']>1920)&(L['年龄']<2020)]"
   ]
  },
  {
   "cell_type": "code",
   "execution_count": 54,
   "metadata": {},
   "outputs": [],
   "source": [
    "condition = \"年龄 >= 1920 and 年龄 <= 2020\"\n",
    "L=L.query(condition)"
   ]
  },
  {
   "cell_type": "code",
   "execution_count": 55,
   "metadata": {},
   "outputs": [
    {
     "data": {
      "text/plain": [
       "1980    47142\n",
       "1970    43407\n",
       "1960    26678\n",
       "1990    11811\n",
       "1950     7078\n",
       "1940      893\n",
       "2010      370\n",
       "2000      139\n",
       "1930      110\n",
       "1920       32\n",
       "Name: 年龄, dtype: int64"
      ]
     },
     "execution_count": 55,
     "metadata": {},
     "output_type": "execute_result"
    }
   ],
   "source": [
    "L.index = range(L.shape[0])\n",
    "L['年龄'].value_counts()"
   ]
  },
  {
   "cell_type": "code",
   "execution_count": 58,
   "metadata": {},
   "outputs": [],
   "source": [
    "df_cum.drop('出生日期',axis=1,inplace=True)"
   ]
  },
  {
   "cell_type": "code",
   "execution_count": 60,
   "metadata": {},
   "outputs": [],
   "source": [
    "df_cum.reset_index(inplace=True)"
   ]
  },
  {
   "cell_type": "code",
   "execution_count": 63,
   "metadata": {},
   "outputs": [
    {
     "data": {
      "text/plain": [
       "Index(['会员卡号', '消费产生的时间', '商品编码', '销售数量', '商品售价', '消费金额', '商品名称', '此次消费的会员积分',\n",
       "       '收银机号', '单据号', '柜组编码', '柜组名称'],\n",
       "      dtype='object')"
      ]
     },
     "execution_count": 63,
     "metadata": {},
     "output_type": "execute_result"
    }
   ],
   "source": [
    "df_sale.columns"
   ]
  },
  {
   "cell_type": "code",
   "execution_count": 64,
   "metadata": {},
   "outputs": [
    {
     "name": "stdout",
     "output_type": "stream",
     "text": [
      "<class 'pandas.core.frame.DataFrame'>\n",
      "RangeIndex: 1893532 entries, 0 to 1893531\n",
      "Data columns (total 12 columns):\n",
      " #   Column     Dtype  \n",
      "---  ------     -----  \n",
      " 0   会员卡号       object \n",
      " 1   消费产生的时间    object \n",
      " 2   商品编码       object \n",
      " 3   销售数量       int64  \n",
      " 4   商品售价       float64\n",
      " 5   消费金额       float64\n",
      " 6   商品名称       object \n",
      " 7   此次消费的会员积分  float64\n",
      " 8   收银机号       int64  \n",
      " 9   单据号        object \n",
      " 10  柜组编码       float64\n",
      " 11  柜组名称       object \n",
      "dtypes: float64(4), int64(2), object(6)\n",
      "memory usage: 173.4+ MB\n"
     ]
    }
   ],
   "source": [
    "df_sale.info()"
   ]
  },
  {
   "cell_type": "code",
   "execution_count": 69,
   "metadata": {},
   "outputs": [
    {
     "name": "stdout",
     "output_type": "stream",
     "text": [
      "1893532 1893532 True\n"
     ]
    }
   ],
   "source": [
    "print('{} {} {}'.format(len(df_sale['销售数量']>0),df_sale.shape[0],len(df_sale['销售数量'] > 0) == df_sale.shape[0]))"
   ]
  },
  {
   "cell_type": "code",
   "execution_count": 71,
   "metadata": {},
   "outputs": [
    {
     "data": {
      "text/plain": [
       "会员卡号         1017486\n",
       "消费产生的时间            0\n",
       "商品编码               0\n",
       "销售数量               0\n",
       "商品售价               0\n",
       "消费金额               0\n",
       "商品名称               0\n",
       "此次消费的会员积分    1017486\n",
       "收银机号               0\n",
       "单据号                0\n",
       "柜组编码         1017486\n",
       "柜组名称         1036956\n",
       "dtype: int64"
      ]
     },
     "execution_count": 71,
     "metadata": {},
     "output_type": "execute_result"
    }
   ],
   "source": [
    "df_sale.isnull().sum()"
   ]
  },
  {
   "cell_type": "code",
   "execution_count": 90,
   "metadata": {},
   "outputs": [
    {
     "data": {
      "text/plain": [
       "会员卡号         1017486\n",
       "消费产生的时间            0\n",
       "商品编码               0\n",
       "销售数量               0\n",
       "商品售价               0\n",
       "消费金额               0\n",
       "商品名称               0\n",
       "此次消费的会员积分    1017486\n",
       "收银机号               0\n",
       "单据号                0\n",
       "柜组编码         1017486\n",
       "柜组名称         1036956\n",
       "dtype: int64"
      ]
     },
     "execution_count": 90,
     "metadata": {},
     "output_type": "execute_result"
    }
   ],
   "source": [
    "df_sale_clearn=df_sale.dropna(subset=['会员卡号'])\n",
    "df_sale.isnull().sum()"
   ]
  },
  {
   "cell_type": "code",
   "execution_count": 91,
   "metadata": {},
   "outputs": [],
   "source": [
    "df_sale_clearn.drop(['收银机号', '柜组编码', '柜组名称'],axis=1,inplace=True)"
   ]
  },
  {
   "cell_type": "code",
   "execution_count": 92,
   "metadata": {},
   "outputs": [],
   "source": [
    "df_sale_clearn.index=range(df_sale_clearn.shape[0])"
   ]
  },
  {
   "cell_type": "code",
   "execution_count": 93,
   "metadata": {},
   "outputs": [],
   "source": [
    "df=pd.merge(df_sale_clearn,df_cum,on=['会员卡号'],how='left')"
   ]
  },
  {
   "cell_type": "code",
   "execution_count": 94,
   "metadata": {},
   "outputs": [
    {
     "data": {
      "text/html": [
       "<div>\n",
       "<style scoped>\n",
       "    .dataframe tbody tr th:only-of-type {\n",
       "        vertical-align: middle;\n",
       "    }\n",
       "\n",
       "    .dataframe tbody tr th {\n",
       "        vertical-align: top;\n",
       "    }\n",
       "\n",
       "    .dataframe thead th {\n",
       "        text-align: right;\n",
       "    }\n",
       "</style>\n",
       "<table border=\"1\" class=\"dataframe\">\n",
       "  <thead>\n",
       "    <tr style=\"text-align: right;\">\n",
       "      <th></th>\n",
       "      <th>会员卡号</th>\n",
       "      <th>消费产生的时间</th>\n",
       "      <th>商品编码</th>\n",
       "      <th>销售数量</th>\n",
       "      <th>商品售价</th>\n",
       "      <th>消费金额</th>\n",
       "      <th>商品名称</th>\n",
       "      <th>此次消费的会员积分</th>\n",
       "      <th>单据号</th>\n",
       "      <th>index</th>\n",
       "      <th>性别</th>\n",
       "      <th>登记时间</th>\n",
       "    </tr>\n",
       "  </thead>\n",
       "  <tbody>\n",
       "    <tr>\n",
       "      <th>0</th>\n",
       "      <td>1be1e3fe</td>\n",
       "      <td>2015-01-01 00:05:41.593</td>\n",
       "      <td>f09c9303</td>\n",
       "      <td>1</td>\n",
       "      <td>290.0</td>\n",
       "      <td>270.20</td>\n",
       "      <td>兰芝化妆品正价瓶</td>\n",
       "      <td>270.20</td>\n",
       "      <td>25bb</td>\n",
       "      <td>NaN</td>\n",
       "      <td>NaN</td>\n",
       "      <td>NaT</td>\n",
       "    </tr>\n",
       "    <tr>\n",
       "      <th>1</th>\n",
       "      <td>1be1e3fe</td>\n",
       "      <td>2015-01-01 00:05:41.593</td>\n",
       "      <td>f09c9303</td>\n",
       "      <td>1</td>\n",
       "      <td>325.0</td>\n",
       "      <td>302.80</td>\n",
       "      <td>兰芝化妆品正价瓶</td>\n",
       "      <td>302.80</td>\n",
       "      <td>25bb</td>\n",
       "      <td>NaN</td>\n",
       "      <td>NaN</td>\n",
       "      <td>NaT</td>\n",
       "    </tr>\n",
       "    <tr>\n",
       "      <th>2</th>\n",
       "      <td>1be1e3fe</td>\n",
       "      <td>2015-01-01 00:05:41.593</td>\n",
       "      <td>f09c9303</td>\n",
       "      <td>1</td>\n",
       "      <td>195.0</td>\n",
       "      <td>181.80</td>\n",
       "      <td>兰芝化妆品正价瓶</td>\n",
       "      <td>181.80</td>\n",
       "      <td>25bb</td>\n",
       "      <td>NaN</td>\n",
       "      <td>NaN</td>\n",
       "      <td>NaT</td>\n",
       "    </tr>\n",
       "    <tr>\n",
       "      <th>3</th>\n",
       "      <td>1be1e3fe</td>\n",
       "      <td>2015-01-01 00:05:41.593</td>\n",
       "      <td>f09c9303</td>\n",
       "      <td>1</td>\n",
       "      <td>270.0</td>\n",
       "      <td>251.55</td>\n",
       "      <td>兰芝化妆品正价瓶</td>\n",
       "      <td>251.55</td>\n",
       "      <td>25bb</td>\n",
       "      <td>NaN</td>\n",
       "      <td>NaN</td>\n",
       "      <td>NaT</td>\n",
       "    </tr>\n",
       "    <tr>\n",
       "      <th>4</th>\n",
       "      <td>1be1e3fe</td>\n",
       "      <td>2015-01-01 00:05:41.593</td>\n",
       "      <td>f09c9303</td>\n",
       "      <td>2</td>\n",
       "      <td>245.0</td>\n",
       "      <td>456.55</td>\n",
       "      <td>兰芝化妆品正价瓶</td>\n",
       "      <td>456.55</td>\n",
       "      <td>25bb</td>\n",
       "      <td>NaN</td>\n",
       "      <td>NaN</td>\n",
       "      <td>NaT</td>\n",
       "    </tr>\n",
       "  </tbody>\n",
       "</table>\n",
       "</div>"
      ],
      "text/plain": [
       "       会员卡号                  消费产生的时间      商品编码  销售数量   商品售价    消费金额      商品名称  \\\n",
       "0  1be1e3fe  2015-01-01 00:05:41.593  f09c9303     1  290.0  270.20  兰芝化妆品正价瓶   \n",
       "1  1be1e3fe  2015-01-01 00:05:41.593  f09c9303     1  325.0  302.80  兰芝化妆品正价瓶   \n",
       "2  1be1e3fe  2015-01-01 00:05:41.593  f09c9303     1  195.0  181.80  兰芝化妆品正价瓶   \n",
       "3  1be1e3fe  2015-01-01 00:05:41.593  f09c9303     1  270.0  251.55  兰芝化妆品正价瓶   \n",
       "4  1be1e3fe  2015-01-01 00:05:41.593  f09c9303     2  245.0  456.55  兰芝化妆品正价瓶   \n",
       "\n",
       "   此次消费的会员积分   单据号  index  性别 登记时间  \n",
       "0     270.20  25bb    NaN NaN  NaT  \n",
       "1     302.80  25bb    NaN NaN  NaT  \n",
       "2     181.80  25bb    NaN NaN  NaT  \n",
       "3     251.55  25bb    NaN NaN  NaT  \n",
       "4     456.55  25bb    NaN NaN  NaT  "
      ]
     },
     "execution_count": 94,
     "metadata": {},
     "output_type": "execute_result"
    }
   ],
   "source": [
    "df.head()"
   ]
  },
  {
   "cell_type": "code",
   "execution_count": 95,
   "metadata": {},
   "outputs": [],
   "source": [
    "index1 = df['消费金额'] > 0\n",
    "index2 = df['此次消费的会员积分'] > 0\n",
    "index3 = df['销售数量'] > 0"
   ]
  },
  {
   "cell_type": "code",
   "execution_count": 96,
   "metadata": {},
   "outputs": [],
   "source": [
    "df1=df.loc[index1&index2&index3]"
   ]
  },
  {
   "cell_type": "code",
   "execution_count": 97,
   "metadata": {},
   "outputs": [],
   "source": [
    "df1.reset_index(inplace=True)"
   ]
  },
  {
   "cell_type": "code",
   "execution_count": 98,
   "metadata": {},
   "outputs": [
    {
     "data": {
      "text/plain": [
       "(738462, 13)"
      ]
     },
     "execution_count": 98,
     "metadata": {},
     "output_type": "execute_result"
    }
   ],
   "source": [
    "df1.shape"
   ]
  },
  {
   "cell_type": "code",
   "execution_count": 102,
   "metadata": {},
   "outputs": [],
   "source": [
    "df1['会员']=1\n",
    "df1.loc[df['性别'].isnull(),'会员']=0"
   ]
  },
  {
   "cell_type": "code",
   "execution_count": 103,
   "metadata": {},
   "outputs": [
    {
     "data": {
      "text/html": [
       "<div>\n",
       "<style scoped>\n",
       "    .dataframe tbody tr th:only-of-type {\n",
       "        vertical-align: middle;\n",
       "    }\n",
       "\n",
       "    .dataframe tbody tr th {\n",
       "        vertical-align: top;\n",
       "    }\n",
       "\n",
       "    .dataframe thead th {\n",
       "        text-align: right;\n",
       "    }\n",
       "</style>\n",
       "<table border=\"1\" class=\"dataframe\">\n",
       "  <thead>\n",
       "    <tr style=\"text-align: right;\">\n",
       "      <th></th>\n",
       "      <th>level_0</th>\n",
       "      <th>会员卡号</th>\n",
       "      <th>消费产生的时间</th>\n",
       "      <th>商品编码</th>\n",
       "      <th>销售数量</th>\n",
       "      <th>商品售价</th>\n",
       "      <th>消费金额</th>\n",
       "      <th>商品名称</th>\n",
       "      <th>此次消费的会员积分</th>\n",
       "      <th>单据号</th>\n",
       "      <th>index</th>\n",
       "      <th>性别</th>\n",
       "      <th>登记时间</th>\n",
       "      <th>会员</th>\n",
       "    </tr>\n",
       "  </thead>\n",
       "  <tbody>\n",
       "    <tr>\n",
       "      <th>0</th>\n",
       "      <td>0</td>\n",
       "      <td>1be1e3fe</td>\n",
       "      <td>2015-01-01 00:05:41.593</td>\n",
       "      <td>f09c9303</td>\n",
       "      <td>1</td>\n",
       "      <td>290.0</td>\n",
       "      <td>270.20</td>\n",
       "      <td>兰芝化妆品正价瓶</td>\n",
       "      <td>270.20</td>\n",
       "      <td>25bb</td>\n",
       "      <td>NaN</td>\n",
       "      <td>NaN</td>\n",
       "      <td>NaT</td>\n",
       "      <td>0</td>\n",
       "    </tr>\n",
       "    <tr>\n",
       "      <th>1</th>\n",
       "      <td>1</td>\n",
       "      <td>1be1e3fe</td>\n",
       "      <td>2015-01-01 00:05:41.593</td>\n",
       "      <td>f09c9303</td>\n",
       "      <td>1</td>\n",
       "      <td>325.0</td>\n",
       "      <td>302.80</td>\n",
       "      <td>兰芝化妆品正价瓶</td>\n",
       "      <td>302.80</td>\n",
       "      <td>25bb</td>\n",
       "      <td>NaN</td>\n",
       "      <td>NaN</td>\n",
       "      <td>NaT</td>\n",
       "      <td>0</td>\n",
       "    </tr>\n",
       "    <tr>\n",
       "      <th>2</th>\n",
       "      <td>2</td>\n",
       "      <td>1be1e3fe</td>\n",
       "      <td>2015-01-01 00:05:41.593</td>\n",
       "      <td>f09c9303</td>\n",
       "      <td>1</td>\n",
       "      <td>195.0</td>\n",
       "      <td>181.80</td>\n",
       "      <td>兰芝化妆品正价瓶</td>\n",
       "      <td>181.80</td>\n",
       "      <td>25bb</td>\n",
       "      <td>NaN</td>\n",
       "      <td>NaN</td>\n",
       "      <td>NaT</td>\n",
       "      <td>0</td>\n",
       "    </tr>\n",
       "    <tr>\n",
       "      <th>3</th>\n",
       "      <td>3</td>\n",
       "      <td>1be1e3fe</td>\n",
       "      <td>2015-01-01 00:05:41.593</td>\n",
       "      <td>f09c9303</td>\n",
       "      <td>1</td>\n",
       "      <td>270.0</td>\n",
       "      <td>251.55</td>\n",
       "      <td>兰芝化妆品正价瓶</td>\n",
       "      <td>251.55</td>\n",
       "      <td>25bb</td>\n",
       "      <td>NaN</td>\n",
       "      <td>NaN</td>\n",
       "      <td>NaT</td>\n",
       "      <td>0</td>\n",
       "    </tr>\n",
       "    <tr>\n",
       "      <th>4</th>\n",
       "      <td>4</td>\n",
       "      <td>1be1e3fe</td>\n",
       "      <td>2015-01-01 00:05:41.593</td>\n",
       "      <td>f09c9303</td>\n",
       "      <td>2</td>\n",
       "      <td>245.0</td>\n",
       "      <td>456.55</td>\n",
       "      <td>兰芝化妆品正价瓶</td>\n",
       "      <td>456.55</td>\n",
       "      <td>25bb</td>\n",
       "      <td>NaN</td>\n",
       "      <td>NaN</td>\n",
       "      <td>NaT</td>\n",
       "      <td>0</td>\n",
       "    </tr>\n",
       "  </tbody>\n",
       "</table>\n",
       "</div>"
      ],
      "text/plain": [
       "   level_0      会员卡号                  消费产生的时间      商品编码  销售数量   商品售价    消费金额  \\\n",
       "0        0  1be1e3fe  2015-01-01 00:05:41.593  f09c9303     1  290.0  270.20   \n",
       "1        1  1be1e3fe  2015-01-01 00:05:41.593  f09c9303     1  325.0  302.80   \n",
       "2        2  1be1e3fe  2015-01-01 00:05:41.593  f09c9303     1  195.0  181.80   \n",
       "3        3  1be1e3fe  2015-01-01 00:05:41.593  f09c9303     1  270.0  251.55   \n",
       "4        4  1be1e3fe  2015-01-01 00:05:41.593  f09c9303     2  245.0  456.55   \n",
       "\n",
       "       商品名称  此次消费的会员积分   单据号  index  性别 登记时间  会员  \n",
       "0  兰芝化妆品正价瓶     270.20  25bb    NaN NaN  NaT   0  \n",
       "1  兰芝化妆品正价瓶     302.80  25bb    NaN NaN  NaT   0  \n",
       "2  兰芝化妆品正价瓶     181.80  25bb    NaN NaN  NaT   0  \n",
       "3  兰芝化妆品正价瓶     251.55  25bb    NaN NaN  NaT   0  \n",
       "4  兰芝化妆品正价瓶     456.55  25bb    NaN NaN  NaT   0  "
      ]
     },
     "execution_count": 103,
     "metadata": {},
     "output_type": "execute_result"
    }
   ],
   "source": [
    "df1.head()"
   ]
  },
  {
   "cell_type": "code",
   "execution_count": 104,
   "metadata": {},
   "outputs": [],
   "source": [
    "L['性别']=L['性别'].apply(lambda x: '男' if x==1 else '女')"
   ]
  },
  {
   "cell_type": "code",
   "execution_count": 105,
   "metadata": {},
   "outputs": [],
   "source": [
    "sex_sort=L['性别'].value_counts()"
   ]
  },
  {
   "cell_type": "code",
   "execution_count": 106,
   "metadata": {},
   "outputs": [
    {
     "data": {
      "text/plain": [
       "女    108283\n",
       "男     29377\n",
       "Name: 性别, dtype: int64"
      ]
     },
     "execution_count": 106,
     "metadata": {},
     "output_type": "execute_result"
    }
   ],
   "source": [
    "sex_sort"
   ]
  },
  {
   "cell_type": "code",
   "execution_count": 107,
   "metadata": {},
   "outputs": [],
   "source": [
    "L['年龄段'] = pd.cut(L['年龄'],[1920,1951,1990,2020],labels=['老年','中年','青年'],right=False)"
   ]
  },
  {
   "cell_type": "code",
   "execution_count": 109,
   "metadata": {},
   "outputs": [],
   "source": [
    "res = L['年龄段'].value_counts()"
   ]
  },
  {
   "cell_type": "code",
   "execution_count": 112,
   "metadata": {},
   "outputs": [
    {
     "data": {
      "text/plain": [
       "Text(0.5, 1.0, '会员的男女比例')"
      ]
     },
     "execution_count": 112,
     "metadata": {},
     "output_type": "execute_result"
    },
    {
     "data": {
      "image/png": "[encoded data removed]",
      "text/plain": [
       "<Figure size 1600x700 with 2 Axes>"
      ]
     },
     "metadata": {},
     "output_type": "display_data"
    }
   ],
   "source": [
    "# 使用上述预处理后的数据集L，包含两个字段，分别是“年龄”和“性别”，先画出年龄的条形图\n",
    "fig, axs = plt.subplots(1, 2, figsize = (16, 7), dpi = 100)\n",
    "# 绘制条形图\n",
    "ax = sns.countplot(x = '年龄', data = L, ax = axs[0])\n",
    "# 设置数字标签\n",
    "for p in ax.patches:\n",
    "    height = p.get_height()\n",
    "    ax.text(x = p.get_x() + (p.get_width() / 2), y = height + 500, s = '{:.0f}'.format(height), ha = 'center')\n",
    "axs[0].set_title('会员的出生年代')\n",
    "# 绘制饼图\n",
    "axs[1].pie(sex_sort, labels = sex_sort.index, wedgeprops = {'width': 0.4}, counterclock = False, autopct = '%.2f%%', pctdistance = 0.8)\n",
    "axs[1].set_title('会员的男女比例')\n",
    "#plt.savefig('./会员出生年代及男女比例情况.png')"
   ]
  },
  {
   "cell_type": "code",
   "execution_count": 113,
   "metadata": {},
   "outputs": [
    {
     "data": {
      "text/plain": [
       "Text(0.5, 1.0, '会员的年龄分布')"
      ]
     },
     "execution_count": 113,
     "metadata": {},
     "output_type": "execute_result"
    },
    {
     "data": {
      "image/png": "[encoded data removed]",
      "text/plain": [
       "<Figure size 800x600 with 1 Axes>"
      ]
     },
     "metadata": {},
     "output_type": "display_data"
    }
   ],
   "source": [
    "# 绘制各个年龄段的饼图\n",
    "plt.figure(figsize = (8, 6), dpi = 100)\n",
    "plt.pie(res.values, labels = ['中年', '青年', '老年'], autopct = '%.2f%%', pctdistance = 0.8, \n",
    "        counterclock = False, wedgeprops = {'width': 0.4})\n",
    "plt.title('会员的年龄分布')\n",
    "#plt.savefig('./会员的年龄分布.png')"
   ]
  },
  {
   "cell_type": "code",
   "execution_count": 114,
   "metadata": {},
   "outputs": [
    {
     "data": {
      "text/plain": [
       "Text(0.5, 1.0, '总消费金额占比')"
      ]
     },
     "execution_count": 114,
     "metadata": {},
     "output_type": "execute_result"
    },
    {
     "data": {
      "image/png": "[encoded data removed]",
      "text/plain": [
       "<Figure size 1200x700 with 2 Axes>"
      ]
     },
     "metadata": {},
     "output_type": "display_data"
    }
   ],
   "source": [
    "fig, axs = plt.subplots(1, 2, figsize = (12, 7), dpi = 100)\n",
    "axs[0].pie([len(df1.loc[df1['会员'] == 1, '消费产生的时间'].unique()), len(df1.loc[df1['会员'] == 0, '消费产生的时间'].unique())],\n",
    "          labels = ['会员', '非会员'], wedgeprops = {'width': 0.4}, counterclock = False, autopct = '%.2f%%', pctdistance = 0.8)\n",
    "axs[0].set_title('总订单占比')\n",
    "axs[1].pie([df1.loc[df1['会员'] == 1, '消费金额'].sum(), df1.loc[df1['会员'] == 0, '消费金额'].sum()], \n",
    "          labels = ['会员', '非会员'], wedgeprops = {'width': 0.4}, counterclock = False, autopct = '%.2f%%', pctdistance = 0.8)\n",
    "axs[1].set_title('总消费金额占比')\n",
    "#plt.savefig('./总订单和总消费占比情况.png')"
   ]
  },
  {
   "cell_type": "code",
   "execution_count": 121,
   "metadata": {},
   "outputs": [
    {
     "ename": "ValueError",
     "evalue": "cannot insert level_0, already exists",
     "output_type": "error",
     "traceback": [
      "\u001b[0;31m---------------------------------------------------------------------------\u001b[0m",
      "\u001b[0;31mValueError\u001b[0m                                Traceback (most recent call last)",
      "\u001b[0;32m<ipython-input-121-01314f9f6ec0>\u001b[0m in \u001b[0;36m<module>\u001b[0;34m\u001b[0m\n\u001b[1;32m      1\u001b[0m \u001b[0mdf_vip\u001b[0m\u001b[0;34m=\u001b[0m\u001b[0mdf1\u001b[0m\u001b[0;34m.\u001b[0m\u001b[0mdropna\u001b[0m\u001b[0;34m(\u001b[0m\u001b[0;34m)\u001b[0m\u001b[0;34m\u001b[0m\u001b[0;34m\u001b[0m\u001b[0m\n\u001b[1;32m      2\u001b[0m \u001b[0;34m\u001b[0m\u001b[0m\n\u001b[0;32m----> 3\u001b[0;31m \u001b[0mdf_vip\u001b[0m\u001b[0;34m.\u001b[0m\u001b[0mreset_index\u001b[0m\u001b[0;34m(\u001b[0m\u001b[0minplace\u001b[0m\u001b[0;34m=\u001b[0m\u001b[0;32mTrue\u001b[0m\u001b[0;34m)\u001b[0m\u001b[0;34m\u001b[0m\u001b[0;34m\u001b[0m\u001b[0m\n\u001b[0m\u001b[1;32m      4\u001b[0m \u001b[0mdf_vip\u001b[0m\u001b[0;34m.\u001b[0m\u001b[0minfo\u001b[0m\u001b[0;34m(\u001b[0m\u001b[0;34m)\u001b[0m\u001b[0;34m\u001b[0m\u001b[0;34m\u001b[0m\u001b[0m\n",
      "\u001b[0;32m/opt/anaconda3/lib/python3.8/site-packages/pandas/core/frame.py\u001b[0m in \u001b[0;36mreset_index\u001b[0;34m(self, level, drop, inplace, col_level, col_fill)\u001b[0m\n\u001b[1;32m   4853\u001b[0m                 \u001b[0;31m# to ndarray and maybe infer different dtype\u001b[0m\u001b[0;34m\u001b[0m\u001b[0;34m\u001b[0m\u001b[0;34m\u001b[0m\u001b[0m\n\u001b[1;32m   4854\u001b[0m                 \u001b[0mlevel_values\u001b[0m \u001b[0;34m=\u001b[0m \u001b[0m_maybe_casted_values\u001b[0m\u001b[0;34m(\u001b[0m\u001b[0mlev\u001b[0m\u001b[0;34m,\u001b[0m \u001b[0mlab\u001b[0m\u001b[0;34m)\u001b[0m\u001b[0;34m\u001b[0m\u001b[0;34m\u001b[0m\u001b[0m\n\u001b[0;32m-> 4855\u001b[0;31m                 \u001b[0mnew_obj\u001b[0m\u001b[0;34m.\u001b[0m\u001b[0minsert\u001b[0m\u001b[0;34m(\u001b[0m\u001b[0;36m0\u001b[0m\u001b[0;34m,\u001b[0m \u001b[0mname\u001b[0m\u001b[0;34m,\u001b[0m \u001b[0mlevel_values\u001b[0m\u001b[0;34m)\u001b[0m\u001b[0;34m\u001b[0m\u001b[0;34m\u001b[0m\u001b[0m\n\u001b[0m\u001b[1;32m   4856\u001b[0m \u001b[0;34m\u001b[0m\u001b[0m\n\u001b[1;32m   4857\u001b[0m         \u001b[0mnew_obj\u001b[0m\u001b[0;34m.\u001b[0m\u001b[0mindex\u001b[0m \u001b[0;34m=\u001b[0m \u001b[0mnew_index\u001b[0m\u001b[0;34m\u001b[0m\u001b[0;34m\u001b[0m\u001b[0m\n",
      "\u001b[0;32m/opt/anaconda3/lib/python3.8/site-packages/pandas/core/frame.py\u001b[0m in \u001b[0;36minsert\u001b[0;34m(self, loc, column, value, allow_duplicates)\u001b[0m\n\u001b[1;32m   3622\u001b[0m         \u001b[0mself\u001b[0m\u001b[0;34m.\u001b[0m\u001b[0m_ensure_valid_index\u001b[0m\u001b[0;34m(\u001b[0m\u001b[0mvalue\u001b[0m\u001b[0;34m)\u001b[0m\u001b[0;34m\u001b[0m\u001b[0;34m\u001b[0m\u001b[0m\n\u001b[1;32m   3623\u001b[0m         \u001b[0mvalue\u001b[0m \u001b[0;34m=\u001b[0m \u001b[0mself\u001b[0m\u001b[0;34m.\u001b[0m\u001b[0m_sanitize_column\u001b[0m\u001b[0;34m(\u001b[0m\u001b[0mcolumn\u001b[0m\u001b[0;34m,\u001b[0m \u001b[0mvalue\u001b[0m\u001b[0;34m,\u001b[0m \u001b[0mbroadcast\u001b[0m\u001b[0;34m=\u001b[0m\u001b[0;32mFalse\u001b[0m\u001b[0;34m)\u001b[0m\u001b[0;34m\u001b[0m\u001b[0;34m\u001b[0m\u001b[0m\n\u001b[0;32m-> 3624\u001b[0;31m         \u001b[0mself\u001b[0m\u001b[0;34m.\u001b[0m\u001b[0m_mgr\u001b[0m\u001b[0;34m.\u001b[0m\u001b[0minsert\u001b[0m\u001b[0;34m(\u001b[0m\u001b[0mloc\u001b[0m\u001b[0;34m,\u001b[0m \u001b[0mcolumn\u001b[0m\u001b[0;34m,\u001b[0m \u001b[0mvalue\u001b[0m\u001b[0;34m,\u001b[0m \u001b[0mallow_duplicates\u001b[0m\u001b[0;34m=\u001b[0m\u001b[0mallow_duplicates\u001b[0m\u001b[0;34m)\u001b[0m\u001b[0;34m\u001b[0m\u001b[0;34m\u001b[0m\u001b[0m\n\u001b[0m\u001b[1;32m   3625\u001b[0m \u001b[0;34m\u001b[0m\u001b[0m\n\u001b[1;32m   3626\u001b[0m     \u001b[0;32mdef\u001b[0m \u001b[0massign\u001b[0m\u001b[0;34m(\u001b[0m\u001b[0mself\u001b[0m\u001b[0;34m,\u001b[0m \u001b[0;34m**\u001b[0m\u001b[0mkwargs\u001b[0m\u001b[0;34m)\u001b[0m \u001b[0;34m->\u001b[0m \u001b[0;34m\"DataFrame\"\u001b[0m\u001b[0;34m:\u001b[0m\u001b[0;34m\u001b[0m\u001b[0;34m\u001b[0m\u001b[0m\n",
      "\u001b[0;32m/opt/anaconda3/lib/python3.8/site-packages/pandas/core/internals/managers.py\u001b[0m in \u001b[0;36minsert\u001b[0;34m(self, loc, item, value, allow_duplicates)\u001b[0m\n\u001b[1;32m   1175\u001b[0m         \u001b[0;32mif\u001b[0m \u001b[0;32mnot\u001b[0m \u001b[0mallow_duplicates\u001b[0m \u001b[0;32mand\u001b[0m \u001b[0mitem\u001b[0m \u001b[0;32min\u001b[0m \u001b[0mself\u001b[0m\u001b[0;34m.\u001b[0m\u001b[0mitems\u001b[0m\u001b[0;34m:\u001b[0m\u001b[0;34m\u001b[0m\u001b[0;34m\u001b[0m\u001b[0m\n\u001b[1;32m   1176\u001b[0m             \u001b[0;31m# Should this be a different kind of error??\u001b[0m\u001b[0;34m\u001b[0m\u001b[0;34m\u001b[0m\u001b[0;34m\u001b[0m\u001b[0m\n\u001b[0;32m-> 1177\u001b[0;31m             \u001b[0;32mraise\u001b[0m \u001b[0mValueError\u001b[0m\u001b[0;34m(\u001b[0m\u001b[0;34mf\"cannot insert {item}, already exists\"\u001b[0m\u001b[0;34m)\u001b[0m\u001b[0;34m\u001b[0m\u001b[0;34m\u001b[0m\u001b[0m\n\u001b[0m\u001b[1;32m   1178\u001b[0m \u001b[0;34m\u001b[0m\u001b[0m\n\u001b[1;32m   1179\u001b[0m         \u001b[0;32mif\u001b[0m \u001b[0;32mnot\u001b[0m \u001b[0misinstance\u001b[0m\u001b[0;34m(\u001b[0m\u001b[0mloc\u001b[0m\u001b[0;34m,\u001b[0m \u001b[0mint\u001b[0m\u001b[0;34m)\u001b[0m\u001b[0;34m:\u001b[0m\u001b[0;34m\u001b[0m\u001b[0;34m\u001b[0m\u001b[0m\n",
      "\u001b[0;31mValueError\u001b[0m: cannot insert level_0, already exists"
     ]
    }
   ],
   "source": [
    "df_vip=df1.dropna()\n",
    "\n",
    "df_vip.reset_index(inplace=True,)\n",
    "df_vip.info()"
   ]
  },
  {
   "cell_type": "code",
   "execution_count": 129,
   "metadata": {},
   "outputs": [],
   "source": [
    "df_vip.drop(columns=['level_0'],inplace=True)"
   ]
  },
  {
   "cell_type": "code",
   "execution_count": 130,
   "metadata": {},
   "outputs": [
    {
     "name": "stdout",
     "output_type": "stream",
     "text": [
      "<class 'pandas.core.frame.DataFrame'>\n",
      "Int64Index: 393482 entries, 10 to 738457\n",
      "Data columns (total 12 columns):\n",
      " #   Column     Non-Null Count   Dtype         \n",
      "---  ------     --------------   -----         \n",
      " 0   会员卡号       393482 non-null  object        \n",
      " 1   消费产生的时间    393482 non-null  object        \n",
      " 2   商品编码       393482 non-null  object        \n",
      " 3   销售数量       393482 non-null  int64         \n",
      " 4   商品售价       393482 non-null  float64       \n",
      " 5   消费金额       393482 non-null  float64       \n",
      " 6   商品名称       393482 non-null  object        \n",
      " 7   此次消费的会员积分  393482 non-null  float64       \n",
      " 8   单据号        393482 non-null  object        \n",
      " 9   index      393482 non-null  float64       \n",
      " 10  性别         393482 non-null  float64       \n",
      " 11  登记时间       393482 non-null  datetime64[ns]\n",
      "dtypes: datetime64[ns](1), float64(5), int64(1), object(5)\n",
      "memory usage: 49.0+ MB\n"
     ]
    }
   ],
   "source": [
    "df_vip.info()"
   ]
  },
  {
   "cell_type": "code",
   "execution_count": 131,
   "metadata": {},
   "outputs": [],
   "source": [
    "df_vip['消费产生的时间']=pd.to_datetime(df_vip['消费产生的时间'])\n",
    "df_vip['年']=df_vip['消费产生的时间'].dt.year"
   ]
  },
  {
   "cell_type": "code",
   "execution_count": 132,
   "metadata": {},
   "outputs": [],
   "source": [
    "df_vip['季度']=df_vip['消费产生的时间'].dt.quarter\n",
    "df_vip['月']=df_vip['消费产生的时间'].dt.month\n",
    "df_vip['天']=df_vip['消费产生的时间'].dt.day"
   ]
  },
  {
   "cell_type": "code",
   "execution_count": 158,
   "metadata": {},
   "outputs": [],
   "source": [
    "df_vip_q=df_vip.groupby('季度')['消费产生的时间'].nunique()"
   ]
  },
  {
   "cell_type": "code",
   "execution_count": 140,
   "metadata": {},
   "outputs": [],
   "source": [
    "quarters_list=df_vip_q.values/3"
   ]
  },
  {
   "cell_type": "code",
   "execution_count": 154,
   "metadata": {},
   "outputs": [],
   "source": []
  },
  {
   "cell_type": "code",
   "execution_count": 152,
   "metadata": {},
   "outputs": [],
   "source": [
    "quarters_list=np.round(quarters_list,2)"
   ]
  },
  {
   "cell_type": "code",
   "execution_count": 153,
   "metadata": {},
   "outputs": [
    {
     "data": {
      "text/plain": [
       "array([17226.  , 19886.  , 15874.  , 18015.33])"
      ]
     },
     "execution_count": 153,
     "metadata": {},
     "output_type": "execute_result"
    }
   ],
   "source": []
  },
  {
   "cell_type": "code",
   "execution_count": null,
   "metadata": {},
   "outputs": [],
   "source": [
    "quarters_list=quarters_list.tolist()"
   ]
  },
  {
   "cell_type": "code",
   "execution_count": 155,
   "metadata": {},
   "outputs": [
    {
     "data": {
      "text/plain": [
       "[17226.0, 19886.0, 15874.0, 18015.33]"
      ]
     },
     "execution_count": 155,
     "metadata": {},
     "output_type": "execute_result"
    }
   ],
   "source": [
    "quarters_list"
   ]
  },
  {
   "cell_type": "code",
   "execution_count": 156,
   "metadata": {},
   "outputs": [],
   "source": [
    "df_vip_d=df_vip.groupby('天')['消费产生的时间'].nunique()\n",
    "days_list=df_vip_q.values/36\n",
    "days_list=np.round(days_list,2)\n",
    "days_list=days_list.tolist()"
   ]
  },
  {
   "cell_type": "code",
   "execution_count": 157,
   "metadata": {},
   "outputs": [],
   "source": [
    "order_list= [quarters_list, days_list]"
   ]
  },
  {
   "cell_type": "code",
   "execution_count": 159,
   "metadata": {},
   "outputs": [],
   "source": [
    "df_vip_d=df_vip.groupby('天')['消费产生的时间'].nunique()"
   ]
  },
  {
   "cell_type": "code",
   "execution_count": 160,
   "metadata": {},
   "outputs": [],
   "source": [
    "time_list=[df_vip_q.index,df_vip_d.index]"
   ]
  },
  {
   "cell_type": "code",
   "execution_count": 161,
   "metadata": {},
   "outputs": [
    {
     "data": {
      "text/plain": [
       "[Int64Index([1, 2, 3, 4], dtype='int64', name='季度'),\n",
       " Int64Index([ 1,  2,  3,  4,  5,  6,  7,  8,  9, 10, 11, 12, 13, 14, 15, 16, 17,\n",
       "             18, 19, 20, 21, 22, 23, 24, 25, 26, 27, 28, 29, 30, 31],\n",
       "            dtype='int64', name='天')]"
      ]
     },
     "execution_count": 161,
     "metadata": {},
     "output_type": "execute_result"
    }
   ],
   "source": [
    "time_list"
   ]
  },
  {
   "cell_type": "code",
   "execution_count": 163,
   "metadata": {},
   "outputs": [],
   "source": [
    "maxindex_list = [quarters_list.index(max(quarters_list)), days_list.index(max(days_list))]"
   ]
  },
  {
   "cell_type": "code",
   "execution_count": 164,
   "metadata": {},
   "outputs": [
    {
     "name": "stdout",
     "output_type": "stream",
     "text": [
      "季度的均值消费偏好最优的时间为: 2\t 对应的均值消费订单数为: 19886.0\n",
      "天数的均值消费偏好最优的时间为: 26\t 对应的均值消费订单数为: 350.86\n"
     ]
    },
    {
     "data": {
      "image/png": "[encoded data removed]",
      "text/plain": [
       "<Figure size 1800x700 with 2 Axes>"
      ]
     },
     "metadata": {},
     "output_type": "display_data"
    }
   ],
   "source": [
    "fig, axs = plt.subplots(1, 2, figsize = (18, 7), dpi = 100)\n",
    "colors = np.random.choice(['r', 'g', 'b', 'orange', 'y'], replace = False, size = len(axs))\n",
    "titles = ['季度的均值消费偏好', '天数的均值消费偏好']\n",
    "labels = ['季度', '天数']\n",
    "for i in range(len(axs)):\n",
    "    ax = axs[i]\n",
    "    ax.plot(time_list[i], order_list[i], linestyle = '-.', c = colors[i], marker = 'o', alpha = 0.85)\n",
    "    ax.axvline(x = time_list[i][maxindex_list[i]], linestyle = '--', c = 'k', alpha = 0.8)\n",
    "    ax.set_title(titles[i])\n",
    "    ax.set_xlabel(labels[i])\n",
    "    ax.set_ylabel('均值消费订单数')\n",
    "    print(f'{titles[i]}最优的时间为: {time_list[i][maxindex_list[i]]}\\t 对应的均值消费订单数为: {order_list[i][maxindex_list[i]]}')\n",
    "#plt.savefig('./季度和天数的均值消费偏好情况.png')"
   ]
  },
  {
   "cell_type": "code",
   "execution_count": 168,
   "metadata": {},
   "outputs": [],
   "source": [
    "df_every_q=pd.pivot_table(index='年',columns='季度',data=df_vip,values='消费产生的时间',aggfunc='nunique')"
   ]
  },
  {
   "cell_type": "code",
   "execution_count": 208,
   "metadata": {},
   "outputs": [
    {
     "data": {
      "text/html": [
       "<div>\n",
       "<style scoped>\n",
       "    .dataframe tbody tr th:only-of-type {\n",
       "        vertical-align: middle;\n",
       "    }\n",
       "\n",
       "    .dataframe tbody tr th {\n",
       "        vertical-align: top;\n",
       "    }\n",
       "\n",
       "    .dataframe thead th {\n",
       "        text-align: right;\n",
       "    }\n",
       "</style>\n",
       "<table border=\"1\" class=\"dataframe\">\n",
       "  <thead>\n",
       "    <tr style=\"text-align: right;\">\n",
       "      <th>季度</th>\n",
       "      <th>1</th>\n",
       "      <th>2</th>\n",
       "      <th>3</th>\n",
       "      <th>4</th>\n",
       "    </tr>\n",
       "    <tr>\n",
       "      <th>年</th>\n",
       "      <th></th>\n",
       "      <th></th>\n",
       "      <th></th>\n",
       "      <th></th>\n",
       "    </tr>\n",
       "  </thead>\n",
       "  <tbody>\n",
       "    <tr>\n",
       "      <th>2015</th>\n",
       "      <td>23239.0</td>\n",
       "      <td>17801.0</td>\n",
       "      <td>10296.0</td>\n",
       "      <td>36.0</td>\n",
       "    </tr>\n",
       "    <tr>\n",
       "      <th>2016</th>\n",
       "      <td>5573.0</td>\n",
       "      <td>18500.0</td>\n",
       "      <td>18753.0</td>\n",
       "      <td>24384.0</td>\n",
       "    </tr>\n",
       "    <tr>\n",
       "      <th>2017</th>\n",
       "      <td>21632.0</td>\n",
       "      <td>23357.0</td>\n",
       "      <td>18573.0</td>\n",
       "      <td>29626.0</td>\n",
       "    </tr>\n",
       "    <tr>\n",
       "      <th>2018</th>\n",
       "      <td>1234.0</td>\n",
       "      <td>NaN</td>\n",
       "      <td>NaN</td>\n",
       "      <td>NaN</td>\n",
       "    </tr>\n",
       "  </tbody>\n",
       "</table>\n",
       "</div>"
      ],
      "text/plain": [
       "季度          1        2        3        4\n",
       "年                                       \n",
       "2015  23239.0  17801.0  10296.0     36.0\n",
       "2016   5573.0  18500.0  18753.0  24384.0\n",
       "2017  21632.0  23357.0  18573.0  29626.0\n",
       "2018   1234.0      NaN      NaN      NaN"
      ]
     },
     "execution_count": 208,
     "metadata": {},
     "output_type": "execute_result"
    }
   ],
   "source": [
    "df_every_q"
   ]
  },
  {
   "cell_type": "code",
   "execution_count": 209,
   "metadata": {},
   "outputs": [
    {
     "data": {
      "text/html": [
       "\n",
       "<script>\n",
       "    require.config({\n",
       "        paths: {\n",
       "            'echarts':'https://assets.pyecharts.org/assets/echarts.min'\n",
       "        }\n",
       "    });\n",
       "</script>\n",
       "\n",
       "        <div id=\"e72af5732647482b84d82d0ff00b374e\" style=\"width:1000px; height:600px;\"></div>\n",
       "\n",
       "<script>\n",
       "        require(['echarts'], function(echarts) {\n",
       "                var chart_e72af5732647482b84d82d0ff00b374e = echarts.init(\n",
       "                    document.getElementById('e72af5732647482b84d82d0ff00b374e'), 'light', {renderer: 'canvas'});\n",
       "                var option_e72af5732647482b84d82d0ff00b374e = {\n",
       "    \"animation\": true,\n",
       "    \"animationThreshold\": 2000,\n",
       "    \"animationDuration\": 1000,\n",
       "    \"animationEasing\": \"cubicOut\",\n",
       "    \"animationDelay\": 0,\n",
       "    \"animationDurationUpdate\": 300,\n",
       "    \"animationEasingUpdate\": \"cubicOut\",\n",
       "    \"animationDelayUpdate\": 0,\n",
       "    \"series\": [\n",
       "        {\n",
       "            \"type\": \"line\",\n",
       "            \"name\": \"2015\",\n",
       "            \"connectNulls\": false,\n",
       "            \"symbolSize\": 4,\n",
       "            \"showSymbol\": true,\n",
       "            \"smooth\": false,\n",
       "            \"clip\": true,\n",
       "            \"step\": false,\n",
       "            \"data\": [\n",
       "                [\n",
       "                    \"1\",\n",
       "                    23239.0\n",
       "                ],\n",
       "                [\n",
       "                    \"2\",\n",
       "                    17801.0\n",
       "                ],\n",
       "                [\n",
       "                    \"3\",\n",
       "                    10296.0\n",
       "                ],\n",
       "                [\n",
       "                    \"4\",\n",
       "                    36.0\n",
       "                ]\n",
       "            ],\n",
       "            \"hoverAnimation\": true,\n",
       "            \"label\": {\n",
       "                \"show\": true,\n",
       "                \"position\": \"top\",\n",
       "                \"margin\": 8\n",
       "            },\n",
       "            \"lineStyle\": {\n",
       "                \"show\": true,\n",
       "                \"width\": 2,\n",
       "                \"opacity\": 0.7,\n",
       "                \"curveness\": 0,\n",
       "                \"type\": \"solid\",\n",
       "                \"color\": \"red\"\n",
       "            },\n",
       "            \"areaStyle\": {\n",
       "                \"opacity\": 0\n",
       "            },\n",
       "            \"zlevel\": 0,\n",
       "            \"z\": 0\n",
       "        },\n",
       "        {\n",
       "            \"type\": \"line\",\n",
       "            \"name\": \"2016\",\n",
       "            \"connectNulls\": false,\n",
       "            \"symbolSize\": 4,\n",
       "            \"showSymbol\": true,\n",
       "            \"smooth\": false,\n",
       "            \"clip\": true,\n",
       "            \"step\": false,\n",
       "            \"data\": [\n",
       "                [\n",
       "                    \"1\",\n",
       "                    5573.0\n",
       "                ],\n",
       "                [\n",
       "                    \"2\",\n",
       "                    18500.0\n",
       "                ],\n",
       "                [\n",
       "                    \"3\",\n",
       "                    18753.0\n",
       "                ],\n",
       "                [\n",
       "                    \"4\",\n",
       "                    24384.0\n",
       "                ]\n",
       "            ],\n",
       "            \"hoverAnimation\": true,\n",
       "            \"label\": {\n",
       "                \"show\": true,\n",
       "                \"position\": \"top\",\n",
       "                \"margin\": 8\n",
       "            },\n",
       "            \"lineStyle\": {\n",
       "                \"show\": true,\n",
       "                \"width\": 2,\n",
       "                \"opacity\": 0.9,\n",
       "                \"curveness\": 0.5,\n",
       "                \"type\": \"solid\",\n",
       "                \"color\": \"black\"\n",
       "            },\n",
       "            \"areaStyle\": {\n",
       "                \"opacity\": 0\n",
       "            },\n",
       "            \"zlevel\": 0,\n",
       "            \"z\": 0\n",
       "        },\n",
       "        {\n",
       "            \"type\": \"line\",\n",
       "            \"name\": \"2017\",\n",
       "            \"connectNulls\": false,\n",
       "            \"symbolSize\": 4,\n",
       "            \"showSymbol\": true,\n",
       "            \"smooth\": false,\n",
       "            \"clip\": true,\n",
       "            \"step\": false,\n",
       "            \"data\": [\n",
       "                [\n",
       "                    \"1\",\n",
       "                    21632.0\n",
       "                ],\n",
       "                [\n",
       "                    \"2\",\n",
       "                    23357.0\n",
       "                ],\n",
       "                [\n",
       "                    \"3\",\n",
       "                    18573.0\n",
       "                ],\n",
       "                [\n",
       "                    \"4\",\n",
       "                    29626.0\n",
       "                ]\n",
       "            ],\n",
       "            \"hoverAnimation\": true,\n",
       "            \"label\": {\n",
       "                \"show\": true,\n",
       "                \"position\": \"top\",\n",
       "                \"margin\": 8\n",
       "            },\n",
       "            \"lineStyle\": {\n",
       "                \"show\": true,\n",
       "                \"width\": 2,\n",
       "                \"opacity\": 0.9,\n",
       "                \"curveness\": 1,\n",
       "                \"type\": \"solid\",\n",
       "                \"color\": \"green\"\n",
       "            },\n",
       "            \"areaStyle\": {\n",
       "                \"opacity\": 0\n",
       "            },\n",
       "            \"zlevel\": 0,\n",
       "            \"z\": 0\n",
       "        }\n",
       "    ],\n",
       "    \"legend\": [\n",
       "        {\n",
       "            \"data\": [\n",
       "                \"2015\",\n",
       "                \"2016\",\n",
       "                \"2017\"\n",
       "            ],\n",
       "            \"selected\": {\n",
       "                \"2015\": true,\n",
       "                \"2016\": true,\n",
       "                \"2017\": true\n",
       "            }\n",
       "        }\n",
       "    ],\n",
       "    \"tooltip\": {\n",
       "        \"show\": true,\n",
       "        \"trigger\": \"item\",\n",
       "        \"triggerOn\": \"mousemove|click\",\n",
       "        \"axisPointer\": {\n",
       "            \"type\": \"line\"\n",
       "        },\n",
       "        \"showContent\": true,\n",
       "        \"alwaysShowContent\": false,\n",
       "        \"showDelay\": 0,\n",
       "        \"hideDelay\": 100,\n",
       "        \"textStyle\": {\n",
       "            \"fontSize\": 14\n",
       "        },\n",
       "        \"borderWidth\": 0,\n",
       "        \"padding\": 5\n",
       "    },\n",
       "    \"xAxis\": [\n",
       "        {\n",
       "            \"show\": true,\n",
       "            \"scale\": false,\n",
       "            \"nameLocation\": \"end\",\n",
       "            \"nameGap\": 15,\n",
       "            \"gridIndex\": 0,\n",
       "            \"inverse\": false,\n",
       "            \"offset\": 0,\n",
       "            \"splitNumber\": 5,\n",
       "            \"minInterval\": 0,\n",
       "            \"splitLine\": {\n",
       "                \"show\": false,\n",
       "                \"lineStyle\": {\n",
       "                    \"show\": true,\n",
       "                    \"width\": 1,\n",
       "                    \"opacity\": 1,\n",
       "                    \"curveness\": 0,\n",
       "                    \"type\": \"solid\"\n",
       "                }\n",
       "            },\n",
       "            \"data\": [\n",
       "                \"1\",\n",
       "                \"2\",\n",
       "                \"3\",\n",
       "                \"4\"\n",
       "            ]\n",
       "        }\n",
       "    ],\n",
       "    \"yAxis\": [\n",
       "        {\n",
       "            \"show\": true,\n",
       "            \"scale\": false,\n",
       "            \"nameLocation\": \"end\",\n",
       "            \"nameGap\": 15,\n",
       "            \"gridIndex\": 0,\n",
       "            \"inverse\": false,\n",
       "            \"offset\": 0,\n",
       "            \"splitNumber\": 5,\n",
       "            \"minInterval\": 0,\n",
       "            \"splitLine\": {\n",
       "                \"show\": false,\n",
       "                \"lineStyle\": {\n",
       "                    \"show\": true,\n",
       "                    \"width\": 1,\n",
       "                    \"opacity\": 1,\n",
       "                    \"curveness\": 0,\n",
       "                    \"type\": \"solid\"\n",
       "                }\n",
       "            }\n",
       "        }\n",
       "    ]\n",
       "};\n",
       "                chart_e72af5732647482b84d82d0ff00b374e.setOption(option_e72af5732647482b84d82d0ff00b374e);\n",
       "        });\n",
       "    </script>\n"
      ],
      "text/plain": [
       "<pyecharts.render.display.HTML at 0x7fe4130e1bb0>"
      ]
     },
     "execution_count": 209,
     "metadata": {},
     "output_type": "execute_result"
    }
   ],
   "source": [
    "from pyecharts.charts import *\n",
    "from pyecharts import options as opts\n",
    "\n",
    "\n",
    "\n",
    "def line_with_custom_linestyle():\n",
    "    line = Line(init_opts=opts.InitOpts(theme='light',\n",
    "                                        width='1000px',\n",
    "                                        height='600px'))\n",
    "    line.add_xaxis(['1','2','3','4'])\n",
    "    line.add_yaxis('2015',\n",
    "                  [23239.0, 17801.0, 10296.0, 36.0],\n",
    "                   linestyle_opts=opts.LineStyleOpts(width=2,\n",
    "                                                     curve=0,\n",
    "                                                     opacity=0.7,\n",
    "                                                     type_='solid',\n",
    "                                                     color='red')\n",
    "                   )\n",
    "    line.add_yaxis('2016',\n",
    "                   df_every_q.loc[2016].tolist(),\n",
    "                   linestyle_opts=opts.LineStyleOpts(width=2,\n",
    "                                                     curve=0.5,\n",
    "                                                     opacity=0.9,\n",
    "                                                     type_='solid',\n",
    "                                                     color='black')\n",
    "                   )\n",
    "    line.add_yaxis('2017',\n",
    "                   df_every_q.loc[2017].tolist(),\n",
    "                   linestyle_opts=opts.LineStyleOpts(width=2,\n",
    "                                                     curve=1,\n",
    "                                                     opacity=0.9,\n",
    "                                                     type_='solid',\n",
    "                                                     color='green')\n",
    "                   )\n",
    "    return line\n",
    "\n",
    "\n",
    "chart = line_with_custom_linestyle()\n",
    "chart.render_notebook()"
   ]
  },
  {
   "cell_type": "code",
   "execution_count": 195,
   "metadata": {},
   "outputs": [
    {
     "data": {
      "text/plain": [
       "[1, 2, 3, 4]"
      ]
     },
     "execution_count": 195,
     "metadata": {},
     "output_type": "execute_result"
    }
   ],
   "source": [
    "df_every_q.columns.tolist()"
   ]
  },
  {
   "cell_type": "code",
   "execution_count": 192,
   "metadata": {},
   "outputs": [
    {
     "data": {
      "text/plain": [
       "[23239.0, 17801.0, 10296.0, 36.0]"
      ]
     },
     "execution_count": 192,
     "metadata": {},
     "output_type": "execute_result"
    }
   ],
   "source": [
    "df_every_q.loc[2015].tolist()"
   ]
  },
  {
   "cell_type": "code",
   "execution_count": 211,
   "metadata": {},
   "outputs": [],
   "source": [
    "df_every_d=pd.pivot_table(index='年',columns='天',data=df_vip,values='消费产生的时间',aggfunc='nunique')"
   ]
  },
  {
   "cell_type": "code",
   "execution_count": 219,
   "metadata": {},
   "outputs": [
    {
     "data": {
      "text/html": [
       "\n",
       "<script>\n",
       "    require.config({\n",
       "        paths: {\n",
       "            'echarts':'https://assets.pyecharts.org/assets/echarts.min'\n",
       "        }\n",
       "    });\n",
       "</script>\n",
       "\n",
       "        <div id=\"817864abc3324044a9ee335900175402\" style=\"width:1000px; height:600px;\"></div>\n",
       "\n",
       "<script>\n",
       "        require(['echarts'], function(echarts) {\n",
       "                var chart_817864abc3324044a9ee335900175402 = echarts.init(\n",
       "                    document.getElementById('817864abc3324044a9ee335900175402'), 'light', {renderer: 'canvas'});\n",
       "                var option_817864abc3324044a9ee335900175402 = {\n",
       "    \"animation\": true,\n",
       "    \"animationThreshold\": 2000,\n",
       "    \"animationDuration\": 1000,\n",
       "    \"animationEasing\": \"cubicOut\",\n",
       "    \"animationDelay\": 0,\n",
       "    \"animationDurationUpdate\": 300,\n",
       "    \"animationEasingUpdate\": \"cubicOut\",\n",
       "    \"animationDelayUpdate\": 0,\n",
       "    \"series\": [\n",
       "        {\n",
       "            \"type\": \"line\",\n",
       "            \"name\": \"2015\",\n",
       "            \"connectNulls\": false,\n",
       "            \"symbolSize\": 4,\n",
       "            \"showSymbol\": true,\n",
       "            \"smooth\": false,\n",
       "            \"clip\": true,\n",
       "            \"step\": false,\n",
       "            \"data\": [\n",
       "                [\n",
       "                    \"1\",\n",
       "                    1778.0\n",
       "                ],\n",
       "                [\n",
       "                    \"2\",\n",
       "                    1558.0\n",
       "                ],\n",
       "                [\n",
       "                    \"3\",\n",
       "                    1551.0\n",
       "                ],\n",
       "                [\n",
       "                    \"4\",\n",
       "                    1340.0\n",
       "                ],\n",
       "                [\n",
       "                    \"5\",\n",
       "                    1272.0\n",
       "                ],\n",
       "                [\n",
       "                    \"6\",\n",
       "                    2032.0\n",
       "                ],\n",
       "                [\n",
       "                    \"7\",\n",
       "                    2193.0\n",
       "                ],\n",
       "                [\n",
       "                    \"8\",\n",
       "                    2218.0\n",
       "                ],\n",
       "                [\n",
       "                    \"9\",\n",
       "                    1173.0\n",
       "                ],\n",
       "                [\n",
       "                    \"10\",\n",
       "                    1345.0\n",
       "                ],\n",
       "                [\n",
       "                    \"11\",\n",
       "                    1516.0\n",
       "                ],\n",
       "                [\n",
       "                    \"12\",\n",
       "                    1643.0\n",
       "                ],\n",
       "                [\n",
       "                    \"13\",\n",
       "                    1679.0\n",
       "                ],\n",
       "                [\n",
       "                    \"14\",\n",
       "                    1898.0\n",
       "                ],\n",
       "                [\n",
       "                    \"15\",\n",
       "                    2187.0\n",
       "                ],\n",
       "                [\n",
       "                    \"16\",\n",
       "                    2255.0\n",
       "                ],\n",
       "                [\n",
       "                    \"17\",\n",
       "                    2405.0\n",
       "                ],\n",
       "                [\n",
       "                    \"18\",\n",
       "                    1444.0\n",
       "                ],\n",
       "                [\n",
       "                    \"19\",\n",
       "                    1537.0\n",
       "                ],\n",
       "                [\n",
       "                    \"20\",\n",
       "                    1838.0\n",
       "                ],\n",
       "                [\n",
       "                    \"21\",\n",
       "                    2053.0\n",
       "                ],\n",
       "                [\n",
       "                    \"22\",\n",
       "                    1705.0\n",
       "                ],\n",
       "                [\n",
       "                    \"23\",\n",
       "                    1533.0\n",
       "                ],\n",
       "                [\n",
       "                    \"24\",\n",
       "                    1536.0\n",
       "                ],\n",
       "                [\n",
       "                    \"25\",\n",
       "                    1375.0\n",
       "                ],\n",
       "                [\n",
       "                    \"26\",\n",
       "                    1383.0\n",
       "                ],\n",
       "                [\n",
       "                    \"27\",\n",
       "                    1454.0\n",
       "                ],\n",
       "                [\n",
       "                    \"28\",\n",
       "                    1618.0\n",
       "                ],\n",
       "                [\n",
       "                    \"29\",\n",
       "                    1451.0\n",
       "                ],\n",
       "                [\n",
       "                    \"30\",\n",
       "                    1350.0\n",
       "                ],\n",
       "                [\n",
       "                    \"31\",\n",
       "                    1052.0\n",
       "                ]\n",
       "            ],\n",
       "            \"hoverAnimation\": true,\n",
       "            \"label\": {\n",
       "                \"show\": true,\n",
       "                \"position\": \"top\",\n",
       "                \"margin\": 8\n",
       "            },\n",
       "            \"lineStyle\": {\n",
       "                \"show\": true,\n",
       "                \"width\": 2,\n",
       "                \"opacity\": 0.7,\n",
       "                \"curveness\": 0,\n",
       "                \"type\": \"solid\"\n",
       "            },\n",
       "            \"areaStyle\": {\n",
       "                \"opacity\": 0\n",
       "            },\n",
       "            \"zlevel\": 0,\n",
       "            \"z\": 0\n",
       "        },\n",
       "        {\n",
       "            \"type\": \"line\",\n",
       "            \"name\": \"2016\",\n",
       "            \"connectNulls\": false,\n",
       "            \"symbolSize\": 4,\n",
       "            \"showSymbol\": true,\n",
       "            \"smooth\": false,\n",
       "            \"clip\": true,\n",
       "            \"step\": false,\n",
       "            \"data\": [\n",
       "                [\n",
       "                    \"1\",\n",
       "                    1711.0\n",
       "                ],\n",
       "                [\n",
       "                    \"2\",\n",
       "                    1818.0\n",
       "                ],\n",
       "                [\n",
       "                    \"3\",\n",
       "                    1823.0\n",
       "                ],\n",
       "                [\n",
       "                    \"4\",\n",
       "                    1701.0\n",
       "                ],\n",
       "                [\n",
       "                    \"5\",\n",
       "                    1670.0\n",
       "                ],\n",
       "                [\n",
       "                    \"6\",\n",
       "                    1595.0\n",
       "                ],\n",
       "                [\n",
       "                    \"7\",\n",
       "                    1438.0\n",
       "                ],\n",
       "                [\n",
       "                    \"8\",\n",
       "                    1510.0\n",
       "                ],\n",
       "                [\n",
       "                    \"9\",\n",
       "                    2390.0\n",
       "                ],\n",
       "                [\n",
       "                    \"10\",\n",
       "                    2174.0\n",
       "                ],\n",
       "                [\n",
       "                    \"11\",\n",
       "                    2237.0\n",
       "                ],\n",
       "                [\n",
       "                    \"12\",\n",
       "                    1895.0\n",
       "                ],\n",
       "                [\n",
       "                    \"13\",\n",
       "                    1826.0\n",
       "                ],\n",
       "                [\n",
       "                    \"14\",\n",
       "                    1692.0\n",
       "                ],\n",
       "                [\n",
       "                    \"15\",\n",
       "                    2012.0\n",
       "                ],\n",
       "                [\n",
       "                    \"16\",\n",
       "                    2106.0\n",
       "                ],\n",
       "                [\n",
       "                    \"17\",\n",
       "                    1891.0\n",
       "                ],\n",
       "                [\n",
       "                    \"18\",\n",
       "                    1876.0\n",
       "                ],\n",
       "                [\n",
       "                    \"19\",\n",
       "                    1755.0\n",
       "                ],\n",
       "                [\n",
       "                    \"20\",\n",
       "                    1745.0\n",
       "                ],\n",
       "                [\n",
       "                    \"21\",\n",
       "                    1687.0\n",
       "                ],\n",
       "                [\n",
       "                    \"22\",\n",
       "                    1800.0\n",
       "                ],\n",
       "                [\n",
       "                    \"23\",\n",
       "                    2882.0\n",
       "                ],\n",
       "                [\n",
       "                    \"24\",\n",
       "                    4045.0\n",
       "                ],\n",
       "                [\n",
       "                    \"25\",\n",
       "                    4934.0\n",
       "                ],\n",
       "                [\n",
       "                    \"26\",\n",
       "                    4803.0\n",
       "                ],\n",
       "                [\n",
       "                    \"27\",\n",
       "                    2244.0\n",
       "                ],\n",
       "                [\n",
       "                    \"28\",\n",
       "                    1808.0\n",
       "                ],\n",
       "                [\n",
       "                    \"29\",\n",
       "                    1895.0\n",
       "                ],\n",
       "                [\n",
       "                    \"30\",\n",
       "                    2117.0\n",
       "                ],\n",
       "                [\n",
       "                    \"31\",\n",
       "                    2130.0\n",
       "                ]\n",
       "            ],\n",
       "            \"hoverAnimation\": true,\n",
       "            \"label\": {\n",
       "                \"show\": true,\n",
       "                \"position\": \"top\",\n",
       "                \"margin\": 8\n",
       "            },\n",
       "            \"lineStyle\": {\n",
       "                \"show\": true,\n",
       "                \"width\": 2,\n",
       "                \"opacity\": 0.9,\n",
       "                \"curveness\": 0.5,\n",
       "                \"type\": \"solid\"\n",
       "            },\n",
       "            \"areaStyle\": {\n",
       "                \"opacity\": 0\n",
       "            },\n",
       "            \"zlevel\": 0,\n",
       "            \"z\": 0\n",
       "        },\n",
       "        {\n",
       "            \"type\": \"line\",\n",
       "            \"name\": \"2017\",\n",
       "            \"connectNulls\": false,\n",
       "            \"symbolSize\": 4,\n",
       "            \"showSymbol\": true,\n",
       "            \"smooth\": false,\n",
       "            \"clip\": true,\n",
       "            \"step\": false,\n",
       "            \"data\": [\n",
       "                [\n",
       "                    \"1\",\n",
       "                    3342.0\n",
       "                ],\n",
       "                [\n",
       "                    \"2\",\n",
       "                    3269.0\n",
       "                ],\n",
       "                [\n",
       "                    \"3\",\n",
       "                    2495.0\n",
       "                ],\n",
       "                [\n",
       "                    \"4\",\n",
       "                    2477.0\n",
       "                ],\n",
       "                [\n",
       "                    \"5\",\n",
       "                    2545.0\n",
       "                ],\n",
       "                [\n",
       "                    \"6\",\n",
       "                    2370.0\n",
       "                ],\n",
       "                [\n",
       "                    \"7\",\n",
       "                    2543.0\n",
       "                ],\n",
       "                [\n",
       "                    \"8\",\n",
       "                    2492.0\n",
       "                ],\n",
       "                [\n",
       "                    \"9\",\n",
       "                    2684.0\n",
       "                ],\n",
       "                [\n",
       "                    \"10\",\n",
       "                    2677.0\n",
       "                ],\n",
       "                [\n",
       "                    \"11\",\n",
       "                    2757.0\n",
       "                ],\n",
       "                [\n",
       "                    \"12\",\n",
       "                    2868.0\n",
       "                ],\n",
       "                [\n",
       "                    \"13\",\n",
       "                    2712.0\n",
       "                ],\n",
       "                [\n",
       "                    \"14\",\n",
       "                    3144.0\n",
       "                ],\n",
       "                [\n",
       "                    \"15\",\n",
       "                    2704.0\n",
       "                ],\n",
       "                [\n",
       "                    \"16\",\n",
       "                    3094.0\n",
       "                ],\n",
       "                [\n",
       "                    \"17\",\n",
       "                    2777.0\n",
       "                ],\n",
       "                [\n",
       "                    \"18\",\n",
       "                    3012.0\n",
       "                ],\n",
       "                [\n",
       "                    \"19\",\n",
       "                    2676.0\n",
       "                ],\n",
       "                [\n",
       "                    \"20\",\n",
       "                    2852.0\n",
       "                ],\n",
       "                [\n",
       "                    \"21\",\n",
       "                    2990.0\n",
       "                ],\n",
       "                [\n",
       "                    \"22\",\n",
       "                    2709.0\n",
       "                ],\n",
       "                [\n",
       "                    \"23\",\n",
       "                    2905.0\n",
       "                ],\n",
       "                [\n",
       "                    \"24\",\n",
       "                    2471.0\n",
       "                ],\n",
       "                [\n",
       "                    \"25\",\n",
       "                    6016.0\n",
       "                ],\n",
       "                [\n",
       "                    \"26\",\n",
       "                    6445.0\n",
       "                ],\n",
       "                [\n",
       "                    \"27\",\n",
       "                    2340.0\n",
       "                ],\n",
       "                [\n",
       "                    \"28\",\n",
       "                    2732.0\n",
       "                ],\n",
       "                [\n",
       "                    \"29\",\n",
       "                    2657.0\n",
       "                ],\n",
       "                [\n",
       "                    \"30\",\n",
       "                    3641.0\n",
       "                ],\n",
       "                [\n",
       "                    \"31\",\n",
       "                    2792.0\n",
       "                ]\n",
       "            ],\n",
       "            \"hoverAnimation\": true,\n",
       "            \"label\": {\n",
       "                \"show\": true,\n",
       "                \"position\": \"top\",\n",
       "                \"margin\": 8\n",
       "            },\n",
       "            \"lineStyle\": {\n",
       "                \"show\": true,\n",
       "                \"width\": 2,\n",
       "                \"opacity\": 0.9,\n",
       "                \"curveness\": 1,\n",
       "                \"type\": \"solid\"\n",
       "            },\n",
       "            \"areaStyle\": {\n",
       "                \"opacity\": 0\n",
       "            },\n",
       "            \"zlevel\": 0,\n",
       "            \"z\": 0\n",
       "        }\n",
       "    ],\n",
       "    \"legend\": [\n",
       "        {\n",
       "            \"data\": [\n",
       "                \"2015\",\n",
       "                \"2016\",\n",
       "                \"2017\"\n",
       "            ],\n",
       "            \"selected\": {\n",
       "                \"2015\": true,\n",
       "                \"2016\": true,\n",
       "                \"2017\": true\n",
       "            }\n",
       "        }\n",
       "    ],\n",
       "    \"tooltip\": {\n",
       "        \"show\": true,\n",
       "        \"trigger\": \"item\",\n",
       "        \"triggerOn\": \"mousemove|click\",\n",
       "        \"axisPointer\": {\n",
       "            \"type\": \"line\"\n",
       "        },\n",
       "        \"showContent\": true,\n",
       "        \"alwaysShowContent\": false,\n",
       "        \"showDelay\": 0,\n",
       "        \"hideDelay\": 100,\n",
       "        \"textStyle\": {\n",
       "            \"fontSize\": 14\n",
       "        },\n",
       "        \"borderWidth\": 0,\n",
       "        \"padding\": 5\n",
       "    },\n",
       "    \"xAxis\": [\n",
       "        {\n",
       "            \"show\": true,\n",
       "            \"scale\": false,\n",
       "            \"nameLocation\": \"end\",\n",
       "            \"nameGap\": 15,\n",
       "            \"gridIndex\": 0,\n",
       "            \"inverse\": false,\n",
       "            \"offset\": 0,\n",
       "            \"splitNumber\": 5,\n",
       "            \"minInterval\": 0,\n",
       "            \"splitLine\": {\n",
       "                \"show\": false,\n",
       "                \"lineStyle\": {\n",
       "                    \"show\": true,\n",
       "                    \"width\": 1,\n",
       "                    \"opacity\": 1,\n",
       "                    \"curveness\": 0,\n",
       "                    \"type\": \"solid\"\n",
       "                }\n",
       "            },\n",
       "            \"data\": [\n",
       "                \"1\",\n",
       "                \"2\",\n",
       "                \"3\",\n",
       "                \"4\",\n",
       "                \"5\",\n",
       "                \"6\",\n",
       "                \"7\",\n",
       "                \"8\",\n",
       "                \"9\",\n",
       "                \"10\",\n",
       "                \"11\",\n",
       "                \"12\",\n",
       "                \"13\",\n",
       "                \"14\",\n",
       "                \"15\",\n",
       "                \"16\",\n",
       "                \"17\",\n",
       "                \"18\",\n",
       "                \"19\",\n",
       "                \"20\",\n",
       "                \"21\",\n",
       "                \"22\",\n",
       "                \"23\",\n",
       "                \"24\",\n",
       "                \"25\",\n",
       "                \"26\",\n",
       "                \"27\",\n",
       "                \"28\",\n",
       "                \"29\",\n",
       "                \"30\",\n",
       "                \"31\"\n",
       "            ]\n",
       "        }\n",
       "    ],\n",
       "    \"yAxis\": [\n",
       "        {\n",
       "            \"show\": true,\n",
       "            \"scale\": false,\n",
       "            \"nameLocation\": \"end\",\n",
       "            \"nameGap\": 15,\n",
       "            \"gridIndex\": 0,\n",
       "            \"inverse\": false,\n",
       "            \"offset\": 0,\n",
       "            \"splitNumber\": 5,\n",
       "            \"minInterval\": 0,\n",
       "            \"splitLine\": {\n",
       "                \"show\": false,\n",
       "                \"lineStyle\": {\n",
       "                    \"show\": true,\n",
       "                    \"width\": 1,\n",
       "                    \"opacity\": 1,\n",
       "                    \"curveness\": 0,\n",
       "                    \"type\": \"solid\"\n",
       "                }\n",
       "            }\n",
       "        }\n",
       "    ]\n",
       "};\n",
       "                chart_817864abc3324044a9ee335900175402.setOption(option_817864abc3324044a9ee335900175402);\n",
       "        });\n",
       "    </script>\n"
      ],
      "text/plain": [
       "<pyecharts.render.display.HTML at 0x7fe41315cfd0>"
      ]
     },
     "execution_count": 219,
     "metadata": {},
     "output_type": "execute_result"
    }
   ],
   "source": [
    "def line_with_custom_linestyle():\n",
    "    line = Line(init_opts=opts.InitOpts(theme='light',\n",
    "                                        width='1000px',\n",
    "                                        height='600px'))\n",
    "    line.add_xaxis(df_every_d.columns.astype(str).tolist())\n",
    "    line.add_yaxis('2015',\n",
    "                  df_every_d.loc[2015].tolist(),\n",
    "                   linestyle_opts=opts.LineStyleOpts(width=2,\n",
    "                                                     curve=0,\n",
    "                                                     opacity=0.7,\n",
    "                                                     type_='solid',\n",
    "                                                     )\n",
    "                   )\n",
    "    line.add_yaxis('2016',\n",
    "                   df_every_d.loc[2016].tolist(),\n",
    "                   linestyle_opts=opts.LineStyleOpts(width=2,\n",
    "                                                     curve=0.5,\n",
    "                                                     opacity=0.9,\n",
    "                                                     type_='solid',\n",
    "                                                     )\n",
    "                   )\n",
    "    line.add_yaxis('2017',\n",
    "                   df_every_q.loc[2017].tolist(),\n",
    "                   linestyle_opts=opts.LineStyleOpts(width=2,\n",
    "                                                     curve=1,\n",
    "                                                     opacity=0.9,\n",
    "                                                     type_='solid',\n",
    "                                                     )\n",
    "                   \n",
    "                   )\n",
    "    return line\n",
    "\n",
    "\n",
    "chart = line_with_custom_linestyle()\n",
    "chart.render_notebook()"
   ]
  },
  {
   "cell_type": "code",
   "execution_count": 224,
   "metadata": {},
   "outputs": [],
   "source": [
    "df_vip['时间']=df_vip['消费产生的时间'].dt.hour"
   ]
  },
  {
   "cell_type": "code",
   "execution_count": 228,
   "metadata": {},
   "outputs": [],
   "source": [
    "df_vip.drop('index',inplace=True,axis=1)"
   ]
  },
  {
   "cell_type": "code",
   "execution_count": 229,
   "metadata": {},
   "outputs": [],
   "source": [
    "df_vip.reset_index(inplace=True,drop=True)"
   ]
  },
  {
   "cell_type": "code",
   "execution_count": 234,
   "metadata": {},
   "outputs": [],
   "source": [
    "df_vip.rename(columns={'年':'年份'},inplace=True)"
   ]
  },
  {
   "cell_type": "code",
   "execution_count": 239,
   "metadata": {
    "scrolled": true
   },
   "outputs": [
    {
     "name": "stdout",
     "output_type": "stream",
     "text": [
      "<class 'pandas.core.frame.DataFrame'>\n",
      "RangeIndex: 393482 entries, 0 to 393481\n",
      "Data columns (total 16 columns):\n",
      " #   Column     Non-Null Count   Dtype  \n",
      "---  ------     --------------   -----  \n",
      " 0   会员卡号       393482 non-null  object \n",
      " 1   消费产生的时间    393482 non-null  object \n",
      " 2   商品编码       393482 non-null  object \n",
      " 3   销售数量       393482 non-null  int64  \n",
      " 4   商品售价       393482 non-null  float64\n",
      " 5   消费金额       393482 non-null  float64\n",
      " 6   商品名称       393482 non-null  object \n",
      " 7   此次消费的会员积分  393482 non-null  float64\n",
      " 8   单据号        393482 non-null  object \n",
      " 9   性别         393482 non-null  float64\n",
      " 10  登记时间       393482 non-null  object \n",
      " 11  年份         393482 non-null  int64  \n",
      " 12  季度         393482 non-null  int64  \n",
      " 13  月          393482 non-null  int64  \n",
      " 14  天          393482 non-null  int64  \n",
      " 15  时间         393482 non-null  int64  \n",
      "dtypes: float64(4), int64(6), object(6)\n",
      "memory usage: 48.0+ MB\n"
     ]
    }
   ],
   "source": [
    "df_vip.info()"
   ]
  },
  {
   "cell_type": "code",
   "execution_count": 237,
   "metadata": {},
   "outputs": [
    {
     "name": "stdout",
     "output_type": "stream",
     "text": [
      "消费产生的时间存在异常值的数量为：469\t登记时间存在的异常值数量为：36\n"
     ]
    }
   ],
   "source": [
    "print('消费产生的时间存在异常值的数量为：{}\\t登记时间存在的异常值数量为：{}'.format(len(df_vip[df_vip['消费产生的时间'] >= '2018-01-03']), \n",
    "                                                     len(df_vip[df_vip['登记时间'] >= '2018-01-03'])))"
   ]
  },
  {
   "cell_type": "code",
   "execution_count": 238,
   "metadata": {},
   "outputs": [],
   "source": [
    "df_vip.to_csv('./vip_info.csv', encoding = 'gb18030', index = None)\n",
    "df_vip = pd.read_csv('./vip_info.csv', encoding = 'gbk')"
   ]
  },
  {
   "cell_type": "code",
   "execution_count": 240,
   "metadata": {},
   "outputs": [
    {
     "name": "stdout",
     "output_type": "stream",
     "text": [
      "筛除全部异常值之后数据的记录数为：393006\t共有16个字段\n"
     ]
    }
   ],
   "source": [
    "index1 = df_vip['消费产生的时间'] < '2018-01-03'\n",
    "index2 = df_vip['登记时间'] < '2018-01-03'\n",
    "df_vip = df_vip[index1 & index2]\n",
    "df_vip.index = range(df_vip.shape[0])\n",
    "print('筛除全部异常值之后数据的记录数为：{}\\t共有{}个字段'.format(df_vip.shape[0], df_vip.shape[1]))"
   ]
  },
  {
   "cell_type": "code",
   "execution_count": 242,
   "metadata": {},
   "outputs": [],
   "source": [
    "# 自定义一个函数来实现两列数据时间相减\n",
    "def time_minus(df, end_time):\n",
    "    \"\"\"\n",
    "    df: 为DataFrame形式，有列数据，第一列为“会员卡号”，第二列为被减的时间\n",
    "    end_time: 结束时间\n",
    "    \"\"\"\n",
    "    df.columns = ['A', 'B']\n",
    "    df['C'] = end_time\n",
    "    l = pd.to_datetime(df['C']) - pd.to_datetime(df['B'])\n",
    "    l = l.apply(lambda x: str(x).split(' ')[0])\n",
    "    l = l.astype(int) / 30\n",
    "    return l"
   ]
  },
  {
   "cell_type": "code",
   "execution_count": 247,
   "metadata": {},
   "outputs": [],
   "source": [
    "from datetime import datetime"
   ]
  },
  {
   "cell_type": "code",
   "execution_count": 243,
   "metadata": {},
   "outputs": [],
   "source": [
    "# 开始登记的时间\n",
    "df_L = df_vip.groupby('会员卡号')['登记时间'].agg(lambda x: x.values[-1]).reset_index()\n",
    "# 最后一次消费的时间\n",
    "df_R = df_vip.groupby('会员卡号')['消费产生的时间'].agg(lambda x: x.values[-1]).reset_index()"
   ]
  },
  {
   "cell_type": "code",
   "execution_count": 255,
   "metadata": {},
   "outputs": [],
   "source": [
    "L1=df_vip.groupby('会员卡号')['登记时间'].agg(lambda x: datetime(2018,1,3)-pd.to_datetime(x.values[-1])).reset_index()"
   ]
  },
  {
   "cell_type": "code",
   "execution_count": 265,
   "metadata": {},
   "outputs": [
    {
     "data": {
      "text/plain": [
       "0         23.933333\n",
       "1        107.066667\n",
       "2         52.300000\n",
       "3         56.066667\n",
       "4         18.200000\n",
       "            ...    \n",
       "42543      9.333333\n",
       "42544      1.166667\n",
       "42545     57.433333\n",
       "42546     80.966667\n",
       "42547     33.133333\n",
       "Name: 登记时间, Length: 42548, dtype: float64"
      ]
     },
     "execution_count": 265,
     "metadata": {},
     "output_type": "execute_result"
    }
   ],
   "source": [
    "\n",
    "(L1['登记时间'].dt.days)/30"
   ]
  },
  {
   "cell_type": "code",
   "execution_count": 244,
   "metadata": {},
   "outputs": [],
   "source": [
    "# 调用函数，end_time为“2018-1-3”\n",
    "end_time = '2018-1-3'\n",
    "L = time_minus(df_L, end_time)\n",
    "R = time_minus(df_R, end_time)"
   ]
  },
  {
   "cell_type": "code",
   "execution_count": 245,
   "metadata": {},
   "outputs": [
    {
     "data": {
      "text/plain": [
       "0         23.933333\n",
       "1        107.066667\n",
       "2         52.300000\n",
       "3         56.066667\n",
       "4         18.200000\n",
       "            ...    \n",
       "42543      9.333333\n",
       "42544      1.166667\n",
       "42545     57.433333\n",
       "42546     80.966667\n",
       "42547     33.133333\n",
       "Length: 42548, dtype: float64"
      ]
     },
     "execution_count": 245,
     "metadata": {},
     "output_type": "execute_result"
    }
   ],
   "source": [
    "L"
   ]
  },
  {
   "cell_type": "code",
   "execution_count": 267,
   "metadata": {},
   "outputs": [],
   "source": [
    "F=df_vip.groupby('会员卡号')['消费产生的时间'].nunique().reset_index(drop=True)\n",
    "M=df_vip.groupby('会员卡号')['消费金额'].sum().reset_index(drop=True)\n",
    "P=df_vip.groupby('会员卡号')['此次消费的会员积分'].sum().reset_index(drop=True)"
   ]
  },
  {
   "cell_type": "code",
   "execution_count": 268,
   "metadata": {},
   "outputs": [],
   "source": [
    "F1 = df_vip.groupby('会员卡号')['消费产生的时间'].agg(lambda x: len(np.unique(x.values))).reset_index(drop = True)"
   ]
  },
  {
   "cell_type": "code",
   "execution_count": 270,
   "metadata": {},
   "outputs": [
    {
     "data": {
      "text/plain": [
       "0         2\n",
       "1         7\n",
       "2        10\n",
       "3         1\n",
       "4         1\n",
       "         ..\n",
       "42543     1\n",
       "42544     1\n",
       "42545     2\n",
       "42546    12\n",
       "42547     3\n",
       "Name: 消费产生的时间, Length: 42548, dtype: int64"
      ]
     },
     "execution_count": 270,
     "metadata": {},
     "output_type": "execute_result"
    }
   ],
   "source": [
    "F\n"
   ]
  },
  {
   "cell_type": "code",
   "execution_count": 271,
   "metadata": {},
   "outputs": [
    {
     "data": {
      "text/plain": [
       "0         2\n",
       "1         7\n",
       "2        10\n",
       "3         1\n",
       "4         1\n",
       "         ..\n",
       "42543     1\n",
       "42544     1\n",
       "42545     2\n",
       "42546    12\n",
       "42547     3\n",
       "Name: 消费产生的时间, Length: 42548, dtype: int64"
      ]
     },
     "execution_count": 271,
     "metadata": {},
     "output_type": "execute_result"
    }
   ],
   "source": [
    "F1"
   ]
  },
  {
   "cell_type": "code",
   "execution_count": 272,
   "metadata": {},
   "outputs": [],
   "source": [
    "df_vip['消费时间偏好'] = df_vip['时间'].apply(lambda x: '晚上' if x >= 18 else '下午' if x >= 14 else '中午' \n",
    "                                      if x >= 11 else '上午' if x >= 6 else '凌晨')"
   ]
  },
  {
   "cell_type": "code",
   "execution_count": 274,
   "metadata": {},
   "outputs": [],
   "source": [
    "S=df_vip.groupby('会员卡号')['消费时间偏好'].agg(lambda x: x.mode().values[0]).reset_index(drop=True)"
   ]
  },
  {
   "cell_type": "code",
   "execution_count": 277,
   "metadata": {},
   "outputs": [],
   "source": [
    "X = df_vip.groupby('会员卡号')['性别'].agg(lambda x:  '女' if x.unique()[0]==0  else '男').reset_index(drop=True)"
   ]
  },
  {
   "cell_type": "code",
   "execution_count": 301,
   "metadata": {},
   "outputs": [],
   "source": [
    "df_i=pd.Series(df_vip['会员卡号'].unique())\n"
   ]
  },
  {
   "cell_type": "code",
   "execution_count": 302,
   "metadata": {},
   "outputs": [],
   "source": [
    "df_LRFMPS=pd.concat([df_i, L, R, F, M, P, S, X],axis=1)"
   ]
  },
  {
   "cell_type": "code",
   "execution_count": 303,
   "metadata": {},
   "outputs": [],
   "source": [
    "df_LRFMPS.columns = ['id', 'L', 'R', 'F', 'M', 'P', 'S', 'X']"
   ]
  },
  {
   "cell_type": "code",
   "execution_count": 304,
   "metadata": {},
   "outputs": [],
   "source": [
    "df_LRFMPS.to_csv('./LRFMPSX.csv', encoding = 'gb18030', index = None)"
   ]
  },
  {
   "cell_type": "code",
   "execution_count": 305,
   "metadata": {},
   "outputs": [],
   "source": [
    "import pandas as pd\n",
    "import numpy as np\n",
    "from wordcloud import WordCloud"
   ]
  },
  {
   "cell_type": "code",
   "execution_count": 306,
   "metadata": {},
   "outputs": [
    {
     "data": {
      "text/html": [
       "<div>\n",
       "<style scoped>\n",
       "    .dataframe tbody tr th:only-of-type {\n",
       "        vertical-align: middle;\n",
       "    }\n",
       "\n",
       "    .dataframe tbody tr th {\n",
       "        vertical-align: top;\n",
       "    }\n",
       "\n",
       "    .dataframe thead th {\n",
       "        text-align: right;\n",
       "    }\n",
       "</style>\n",
       "<table border=\"1\" class=\"dataframe\">\n",
       "  <thead>\n",
       "    <tr style=\"text-align: right;\">\n",
       "      <th></th>\n",
       "      <th>id</th>\n",
       "      <th>L</th>\n",
       "      <th>R</th>\n",
       "      <th>F</th>\n",
       "      <th>M</th>\n",
       "      <th>P</th>\n",
       "      <th>S</th>\n",
       "      <th>X</th>\n",
       "    </tr>\n",
       "  </thead>\n",
       "  <tbody>\n",
       "    <tr>\n",
       "      <th>0</th>\n",
       "      <td>d8d36575</td>\n",
       "      <td>23.933333</td>\n",
       "      <td>13.433333</td>\n",
       "      <td>2</td>\n",
       "      <td>5266.5</td>\n",
       "      <td>5267.0</td>\n",
       "      <td>中午</td>\n",
       "      <td>女</td>\n",
       "    </tr>\n",
       "    <tr>\n",
       "      <th>1</th>\n",
       "      <td>8527d4d0</td>\n",
       "      <td>107.066667</td>\n",
       "      <td>2.066667</td>\n",
       "      <td>7</td>\n",
       "      <td>12850.0</td>\n",
       "      <td>11850.0</td>\n",
       "      <td>下午</td>\n",
       "      <td>女</td>\n",
       "    </tr>\n",
       "    <tr>\n",
       "      <th>2</th>\n",
       "      <td>586a3339</td>\n",
       "      <td>52.300000</td>\n",
       "      <td>0.566667</td>\n",
       "      <td>10</td>\n",
       "      <td>6340.8</td>\n",
       "      <td>6141.0</td>\n",
       "      <td>上午</td>\n",
       "      <td>女</td>\n",
       "    </tr>\n",
       "    <tr>\n",
       "      <th>3</th>\n",
       "      <td>c2477497</td>\n",
       "      <td>56.066667</td>\n",
       "      <td>2.266667</td>\n",
       "      <td>1</td>\n",
       "      <td>8964.0</td>\n",
       "      <td>8964.0</td>\n",
       "      <td>中午</td>\n",
       "      <td>女</td>\n",
       "    </tr>\n",
       "    <tr>\n",
       "      <th>4</th>\n",
       "      <td>0706d57c</td>\n",
       "      <td>18.200000</td>\n",
       "      <td>2.066667</td>\n",
       "      <td>1</td>\n",
       "      <td>236.0</td>\n",
       "      <td>236.0</td>\n",
       "      <td>上午</td>\n",
       "      <td>女</td>\n",
       "    </tr>\n",
       "  </tbody>\n",
       "</table>\n",
       "</div>"
      ],
      "text/plain": [
       "         id           L          R   F        M        P   S  X\n",
       "0  d8d36575   23.933333  13.433333   2   5266.5   5267.0  中午  女\n",
       "1  8527d4d0  107.066667   2.066667   7  12850.0  11850.0  下午  女\n",
       "2  586a3339   52.300000   0.566667  10   6340.8   6141.0  上午  女\n",
       "3  c2477497   56.066667   2.266667   1   8964.0   8964.0  中午  女\n",
       "4  0706d57c   18.200000   2.066667   1    236.0    236.0  上午  女"
      ]
     },
     "execution_count": 306,
     "metadata": {},
     "output_type": "execute_result"
    }
   ],
   "source": [
    "df = pd.read_csv('./LRFMPSX.csv', encoding = 'gbk')\n",
    "df.head()"
   ]
  },
  {
   "cell_type": "code",
   "execution_count": 307,
   "metadata": {},
   "outputs": [
    {
     "name": "stdout",
     "output_type": "stream",
     "text": [
      "数据集的shape:(42548, 8)\n"
     ]
    }
   ],
   "source": [
    "print(f'数据集的shape:{df.shape}')\n",
    "df.isnull().mean()\n",
    "df.dropna(inplace=True)"
   ]
  },
  {
   "cell_type": "code",
   "execution_count": 308,
   "metadata": {},
   "outputs": [
    {
     "data": {
      "text/html": [
       "<div>\n",
       "<style scoped>\n",
       "    .dataframe tbody tr th:only-of-type {\n",
       "        vertical-align: middle;\n",
       "    }\n",
       "\n",
       "    .dataframe tbody tr th {\n",
       "        vertical-align: top;\n",
       "    }\n",
       "\n",
       "    .dataframe thead th {\n",
       "        text-align: right;\n",
       "    }\n",
       "</style>\n",
       "<table border=\"1\" class=\"dataframe\">\n",
       "  <thead>\n",
       "    <tr style=\"text-align: right;\">\n",
       "      <th></th>\n",
       "      <th>L</th>\n",
       "      <th>R</th>\n",
       "      <th>F</th>\n",
       "      <th>M</th>\n",
       "      <th>P</th>\n",
       "    </tr>\n",
       "  </thead>\n",
       "  <tbody>\n",
       "    <tr>\n",
       "      <th>count</th>\n",
       "      <td>42548.000000</td>\n",
       "      <td>42548.000000</td>\n",
       "      <td>42548.000000</td>\n",
       "      <td>4.254800e+04</td>\n",
       "      <td>4.254800e+04</td>\n",
       "    </tr>\n",
       "    <tr>\n",
       "      <th>mean</th>\n",
       "      <td>43.272356</td>\n",
       "      <td>12.748108</td>\n",
       "      <td>5.000917</td>\n",
       "      <td>1.314873e+04</td>\n",
       "      <td>1.166768e+04</td>\n",
       "    </tr>\n",
       "    <tr>\n",
       "      <th>std</th>\n",
       "      <td>38.427058</td>\n",
       "      <td>11.415613</td>\n",
       "      <td>9.963993</td>\n",
       "      <td>3.650895e+04</td>\n",
       "      <td>3.293682e+04</td>\n",
       "    </tr>\n",
       "    <tr>\n",
       "      <th>min</th>\n",
       "      <td>0.000000</td>\n",
       "      <td>0.000000</td>\n",
       "      <td>1.000000</td>\n",
       "      <td>7.300000e-01</td>\n",
       "      <td>8.100000e-01</td>\n",
       "    </tr>\n",
       "    <tr>\n",
       "      <th>25%</th>\n",
       "      <td>11.966667</td>\n",
       "      <td>2.900000</td>\n",
       "      <td>1.000000</td>\n",
       "      <td>1.424820e+03</td>\n",
       "      <td>1.250000e+03</td>\n",
       "    </tr>\n",
       "    <tr>\n",
       "      <th>50%</th>\n",
       "      <td>32.133333</td>\n",
       "      <td>9.433333</td>\n",
       "      <td>2.000000</td>\n",
       "      <td>3.885000e+03</td>\n",
       "      <td>3.410000e+03</td>\n",
       "    </tr>\n",
       "    <tr>\n",
       "      <th>75%</th>\n",
       "      <td>67.200000</td>\n",
       "      <td>19.433333</td>\n",
       "      <td>5.000000</td>\n",
       "      <td>1.106000e+04</td>\n",
       "      <td>9.345000e+03</td>\n",
       "    </tr>\n",
       "    <tr>\n",
       "      <th>max</th>\n",
       "      <td>185.000000</td>\n",
       "      <td>36.566667</td>\n",
       "      <td>287.000000</td>\n",
       "      <td>1.511900e+06</td>\n",
       "      <td>1.413370e+06</td>\n",
       "    </tr>\n",
       "  </tbody>\n",
       "</table>\n",
       "</div>"
      ],
      "text/plain": [
       "                  L             R             F             M             P\n",
       "count  42548.000000  42548.000000  42548.000000  4.254800e+04  4.254800e+04\n",
       "mean      43.272356     12.748108      5.000917  1.314873e+04  1.166768e+04\n",
       "std       38.427058     11.415613      9.963993  3.650895e+04  3.293682e+04\n",
       "min        0.000000      0.000000      1.000000  7.300000e-01  8.100000e-01\n",
       "25%       11.966667      2.900000      1.000000  1.424820e+03  1.250000e+03\n",
       "50%       32.133333      9.433333      2.000000  3.885000e+03  3.410000e+03\n",
       "75%       67.200000     19.433333      5.000000  1.106000e+04  9.345000e+03\n",
       "max      185.000000     36.566667    287.000000  1.511900e+06  1.413370e+06"
      ]
     },
     "execution_count": 308,
     "metadata": {},
     "output_type": "execute_result"
    }
   ],
   "source": [
    "df.describe()"
   ]
  },
  {
   "cell_type": "code",
   "execution_count": 309,
   "metadata": {},
   "outputs": [
    {
     "data": {
      "text/html": [
       "<div>\n",
       "<style scoped>\n",
       "    .dataframe tbody tr th:only-of-type {\n",
       "        vertical-align: middle;\n",
       "    }\n",
       "\n",
       "    .dataframe tbody tr th {\n",
       "        vertical-align: top;\n",
       "    }\n",
       "\n",
       "    .dataframe thead th {\n",
       "        text-align: right;\n",
       "    }\n",
       "</style>\n",
       "<table border=\"1\" class=\"dataframe\">\n",
       "  <thead>\n",
       "    <tr style=\"text-align: right;\">\n",
       "      <th></th>\n",
       "      <th>会员卡号</th>\n",
       "      <th>性别</th>\n",
       "      <th>消费偏好</th>\n",
       "      <th>入会程度</th>\n",
       "      <th>最近购买的时间</th>\n",
       "      <th>消费频次</th>\n",
       "      <th>消费金额</th>\n",
       "      <th>消费积分</th>\n",
       "    </tr>\n",
       "  </thead>\n",
       "  <tbody>\n",
       "    <tr>\n",
       "      <th>0</th>\n",
       "      <td>d8d36575</td>\n",
       "      <td>女</td>\n",
       "      <td>您喜欢在中午时间进行消费</td>\n",
       "      <td>老用户</td>\n",
       "      <td>您最近390天前进行过一次购物</td>\n",
       "      <td>低频消费</td>\n",
       "      <td>低等消费用户</td>\n",
       "      <td>低等积分用户</td>\n",
       "    </tr>\n",
       "    <tr>\n",
       "      <th>1</th>\n",
       "      <td>8527d4d0</td>\n",
       "      <td>女</td>\n",
       "      <td>您喜欢在下午时间进行消费</td>\n",
       "      <td>老用户</td>\n",
       "      <td>您最近60天前进行过一次购物</td>\n",
       "      <td>中频消费</td>\n",
       "      <td>中等消费用户</td>\n",
       "      <td>中等积分用户</td>\n",
       "    </tr>\n",
       "    <tr>\n",
       "      <th>2</th>\n",
       "      <td>586a3339</td>\n",
       "      <td>女</td>\n",
       "      <td>您喜欢在上午时间进行消费</td>\n",
       "      <td>老用户</td>\n",
       "      <td>您最近0天前进行过一次购物</td>\n",
       "      <td>中频消费</td>\n",
       "      <td>低等消费用户</td>\n",
       "      <td>低等积分用户</td>\n",
       "    </tr>\n",
       "    <tr>\n",
       "      <th>3</th>\n",
       "      <td>c2477497</td>\n",
       "      <td>女</td>\n",
       "      <td>您喜欢在中午时间进行消费</td>\n",
       "      <td>老用户</td>\n",
       "      <td>您最近60天前进行过一次购物</td>\n",
       "      <td>低频消费</td>\n",
       "      <td>低等消费用户</td>\n",
       "      <td>低等积分用户</td>\n",
       "    </tr>\n",
       "    <tr>\n",
       "      <th>4</th>\n",
       "      <td>0706d57c</td>\n",
       "      <td>女</td>\n",
       "      <td>您喜欢在上午时间进行消费</td>\n",
       "      <td>老用户</td>\n",
       "      <td>您最近60天前进行过一次购物</td>\n",
       "      <td>低频消费</td>\n",
       "      <td>低等消费用户</td>\n",
       "      <td>低等积分用户</td>\n",
       "    </tr>\n",
       "    <tr>\n",
       "      <th>...</th>\n",
       "      <td>...</td>\n",
       "      <td>...</td>\n",
       "      <td>...</td>\n",
       "      <td>...</td>\n",
       "      <td>...</td>\n",
       "      <td>...</td>\n",
       "      <td>...</td>\n",
       "      <td>...</td>\n",
       "    </tr>\n",
       "    <tr>\n",
       "      <th>42543</th>\n",
       "      <td>406380bf</td>\n",
       "      <td>女</td>\n",
       "      <td>您喜欢在晚上时间进行消费</td>\n",
       "      <td>中等用户</td>\n",
       "      <td>您最近270天前进行过一次购物</td>\n",
       "      <td>低频消费</td>\n",
       "      <td>低等消费用户</td>\n",
       "      <td>低等积分用户</td>\n",
       "    </tr>\n",
       "    <tr>\n",
       "      <th>42544</th>\n",
       "      <td>4f7fa021</td>\n",
       "      <td>女</td>\n",
       "      <td>您喜欢在晚上时间进行消费</td>\n",
       "      <td>新用户</td>\n",
       "      <td>您最近30天前进行过一次购物</td>\n",
       "      <td>低频消费</td>\n",
       "      <td>低等消费用户</td>\n",
       "      <td>低等积分用户</td>\n",
       "    </tr>\n",
       "    <tr>\n",
       "      <th>42545</th>\n",
       "      <td>14a60aea</td>\n",
       "      <td>男</td>\n",
       "      <td>您喜欢在晚上时间进行消费</td>\n",
       "      <td>老用户</td>\n",
       "      <td>您最近570天前进行过一次购物</td>\n",
       "      <td>低频消费</td>\n",
       "      <td>低等消费用户</td>\n",
       "      <td>低等积分用户</td>\n",
       "    </tr>\n",
       "    <tr>\n",
       "      <th>42546</th>\n",
       "      <td>139ddf73</td>\n",
       "      <td>女</td>\n",
       "      <td>您喜欢在下午时间进行消费</td>\n",
       "      <td>老用户</td>\n",
       "      <td>您最近330天前进行过一次购物</td>\n",
       "      <td>中频消费</td>\n",
       "      <td>中等消费用户</td>\n",
       "      <td>中等积分用户</td>\n",
       "    </tr>\n",
       "    <tr>\n",
       "      <th>42547</th>\n",
       "      <td>7cc713d7</td>\n",
       "      <td>女</td>\n",
       "      <td>您喜欢在中午时间进行消费</td>\n",
       "      <td>老用户</td>\n",
       "      <td>您最近390天前进行过一次购物</td>\n",
       "      <td>低频消费</td>\n",
       "      <td>低等消费用户</td>\n",
       "      <td>低等积分用户</td>\n",
       "    </tr>\n",
       "  </tbody>\n",
       "</table>\n",
       "<p>42548 rows × 8 columns</p>\n",
       "</div>"
      ],
      "text/plain": [
       "           会员卡号 性别          消费偏好  入会程度          最近购买的时间  消费频次    消费金额    消费积分\n",
       "0      d8d36575  女  您喜欢在中午时间进行消费   老用户  您最近390天前进行过一次购物  低频消费  低等消费用户  低等积分用户\n",
       "1      8527d4d0  女  您喜欢在下午时间进行消费   老用户   您最近60天前进行过一次购物  中频消费  中等消费用户  中等积分用户\n",
       "2      586a3339  女  您喜欢在上午时间进行消费   老用户    您最近0天前进行过一次购物  中频消费  低等消费用户  低等积分用户\n",
       "3      c2477497  女  您喜欢在中午时间进行消费   老用户   您最近60天前进行过一次购物  低频消费  低等消费用户  低等积分用户\n",
       "4      0706d57c  女  您喜欢在上午时间进行消费   老用户   您最近60天前进行过一次购物  低频消费  低等消费用户  低等积分用户\n",
       "...         ... ..           ...   ...              ...   ...     ...     ...\n",
       "42543  406380bf  女  您喜欢在晚上时间进行消费  中等用户  您最近270天前进行过一次购物  低频消费  低等消费用户  低等积分用户\n",
       "42544  4f7fa021  女  您喜欢在晚上时间进行消费   新用户   您最近30天前进行过一次购物  低频消费  低等消费用户  低等积分用户\n",
       "42545  14a60aea  男  您喜欢在晚上时间进行消费   老用户  您最近570天前进行过一次购物  低频消费  低等消费用户  低等积分用户\n",
       "42546  139ddf73  女  您喜欢在下午时间进行消费   老用户  您最近330天前进行过一次购物  中频消费  中等消费用户  中等积分用户\n",
       "42547  7cc713d7  女  您喜欢在中午时间进行消费   老用户  您最近390天前进行过一次购物  低频消费  低等消费用户  低等积分用户\n",
       "\n",
       "[42548 rows x 8 columns]"
      ]
     },
     "execution_count": 309,
     "metadata": {},
     "output_type": "execute_result"
    }
   ],
   "source": [
    "# 开始对数据进行分组\n",
    "\"\"\"\n",
    "L（入会程度）：3个月以下为新用户，4-12个月为中等用户，13个月以上为老用户\n",
    "R（最近购买的时间）\n",
    "F（消费频次）：次数20次以上的为高频消费，6-19次为中频消费，5次以下为低频消费\n",
    "M（消费金额）：10万以上为高等消费，1万-10万为中等消费，1万以下为低等消费\n",
    "P（消费积分）：10万以上为高等积分用户，1万-10万为中等积分用户，1万以下为低等积分用户\n",
    "\"\"\"\n",
    "df_profile = pd.DataFrame()\n",
    "df_profile['会员卡号'] = df['id']\n",
    "df_profile['性别'] = df['X']\n",
    "df_profile['消费偏好'] = df['S'].apply(lambda x: '您喜欢在' + str(x) + '时间进行消费')\n",
    "df_profile['入会程度'] = df['L'].apply(lambda x: '老用户' if int(x) >= 13 else '中等用户' if int(x) >= 4 else '新用户')\n",
    "df_profile['最近购买的时间'] = df['R'].apply(lambda x: '您最近' + str(int(x) * 30) + '天前进行过一次购物')\n",
    "df_profile['消费频次'] = df['F'].apply(lambda x: '高频消费' if x >= 20 else '中频消费' if x >= 6 else '低频消费')\n",
    "df_profile['消费金额'] = df['M'].apply(lambda x: '高等消费用户' if int(x) >= 1e+05 else '中等消费用户' if int(x) >= 1e+04 else '低等消费用户')\n",
    "df_profile['消费积分'] = df['P'].apply(lambda x: '高等积分用户' if int(x) >= 1e+05 else '中等积分用户' if int(x) >= 1e+04 else '低等积分用户')\n",
    "df_profile"
   ]
  },
  {
   "cell_type": "code",
   "execution_count": 310,
   "metadata": {},
   "outputs": [
    {
     "data": {
      "text/plain": [
       "['d8d36575',\n",
       " '女',\n",
       " '您喜欢在中午时间进行消费',\n",
       " '老用户',\n",
       " '您最近390天前进行过一次购物',\n",
       " '低频消费',\n",
       " '低等消费用户',\n",
       " '低等积分用户']"
      ]
     },
     "execution_count": 310,
     "metadata": {},
     "output_type": "execute_result"
    }
   ],
   "source": [
    "df_profile[df_profile['会员卡号'] == 'd8d36575'].T.iloc[:, 0].values.tolist()"
   ]
  },
  {
   "cell_type": "code",
   "execution_count": 311,
   "metadata": {},
   "outputs": [
    {
     "data": {
      "text/plain": [
       "['d8d36575',\n",
       " '女',\n",
       " '您喜欢在中午时间进行消费',\n",
       " '老用户',\n",
       " '您最近390天前进行过一次购物',\n",
       " '低频消费',\n",
       " '低等消费用户',\n",
       " '低等积分用户']"
      ]
     },
     "execution_count": 311,
     "metadata": {},
     "output_type": "execute_result"
    }
   ],
   "source": [
    "df_profile[df_profile['会员卡号'] == 'd8d36575'].iloc[0, :].values.tolist()"
   ]
  },
  {
   "cell_type": "code",
   "execution_count": 312,
   "metadata": {},
   "outputs": [
    {
     "data": {
      "text/html": [
       "<div>\n",
       "<style scoped>\n",
       "    .dataframe tbody tr th:only-of-type {\n",
       "        vertical-align: middle;\n",
       "    }\n",
       "\n",
       "    .dataframe tbody tr th {\n",
       "        vertical-align: top;\n",
       "    }\n",
       "\n",
       "    .dataframe thead th {\n",
       "        text-align: right;\n",
       "    }\n",
       "</style>\n",
       "<table border=\"1\" class=\"dataframe\">\n",
       "  <thead>\n",
       "    <tr style=\"text-align: right;\">\n",
       "      <th></th>\n",
       "      <th>会员卡号</th>\n",
       "      <th>性别</th>\n",
       "      <th>消费偏好</th>\n",
       "      <th>入会程度</th>\n",
       "      <th>最近购买的时间</th>\n",
       "      <th>消费频次</th>\n",
       "      <th>消费金额</th>\n",
       "      <th>消费积分</th>\n",
       "    </tr>\n",
       "  </thead>\n",
       "  <tbody>\n",
       "    <tr>\n",
       "      <th>0</th>\n",
       "      <td>d8d36575</td>\n",
       "      <td>女</td>\n",
       "      <td>您喜欢在中午时间进行消费</td>\n",
       "      <td>老用户</td>\n",
       "      <td>您最近390天前进行过一次购物</td>\n",
       "      <td>低频消费</td>\n",
       "      <td>低等消费用户</td>\n",
       "      <td>低等积分用户</td>\n",
       "    </tr>\n",
       "  </tbody>\n",
       "</table>\n",
       "</div>"
      ],
      "text/plain": [
       "       会员卡号 性别          消费偏好 入会程度          最近购买的时间  消费频次    消费金额    消费积分\n",
       "0  d8d36575  女  您喜欢在中午时间进行消费  老用户  您最近390天前进行过一次购物  低频消费  低等消费用户  低等积分用户"
      ]
     },
     "execution_count": 312,
     "metadata": {},
     "output_type": "execute_result"
    }
   ],
   "source": [
    "df_profile[df_profile['会员卡号'] == 'd8d36575']"
   ]
  },
  {
   "cell_type": "code",
   "execution_count": 323,
   "metadata": {},
   "outputs": [],
   "source": [
    "def wc_plot(df, id_label = None):\n",
    "    \"\"\"\n",
    "    df: 为DataFrame的数据集\n",
    "    id_label: 为输入用户的会员卡号，默认为随机取一个会员进行展示\n",
    "    \"\"\"\n",
    "    myfont = '/System/Library/Fonts/STHeiti Light.ttc'\n",
    "    if id_label == None:\n",
    "        id_label = df.loc[np.random.choice(range(df.shape[0])), '会员卡号']\n",
    "    text = df[df['会员卡号'] == id_label].T.iloc[:, 0].values.tolist()\n",
    "    plt.figure(dpi = 100)\n",
    "    wc = WordCloud(font_path = myfont, background_color = 'white', width = 500, height = 400).generate_from_text(' '.join(text))\n",
    "    plt.imshow(wc)\n",
    "    plt.axis('off')\n",
    "    plt.savefig(f'./会员卡号为{id_label}的用户画像.png')\n",
    "    plt.show()"
   ]
  },
  {
   "cell_type": "code",
   "execution_count": 327,
   "metadata": {
    "scrolled": true
   },
   "outputs": [
    {
     "data": {
      "image/png": "[encoded data removed]",
      "text/plain": [
       "<Figure size 600x400 with 1 Axes>"
      ]
     },
     "metadata": {},
     "output_type": "display_data"
    }
   ],
   "source": [
    "# 调用词云函数来绘制用户画像\n",
    "wc_plot(df_profile,)"
   ]
  },
  {
   "cell_type": "code",
   "execution_count": 328,
   "metadata": {},
   "outputs": [],
   "source": [
    "df0 = df.iloc[:, 1:6]\n",
    "res_std = StandardScaler().fit_transform(df0)"
   ]
  },
  {
   "cell_type": "code",
   "execution_count": null,
   "metadata": {},
   "outputs": [],
   "source": []
  }
 ],
 "metadata": {
  "kernelspec": {
   "display_name": "Python 3",
   "language": "python",
   "name": "python3"
  },
  "language_info": {
   "codemirror_mode": {
    "name": "ipython",
    "version": 3
   },
   "file_extension": ".py",
   "mimetype": "text/x-python",
   "name": "python",
   "nbconvert_exporter": "python",
   "pygments_lexer": "ipython3",
   "version": "3.8.5"
  }
 },
 "nbformat": 4,
 "nbformat_minor": 4
}
